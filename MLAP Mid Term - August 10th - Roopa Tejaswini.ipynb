{
 "cells": [
  {
   "cell_type": "markdown",
   "metadata": {},
   "source": [
    "# Roopa Tejaswini Mocherla - 19A1HP040"
   ]
  },
  {
   "cell_type": "code",
   "execution_count": 6,
   "metadata": {},
   "outputs": [],
   "source": [
    "import pandas as pd\n",
    "import numpy as np \n",
    "\n",
    "#Importing required packages: Pandas used for manipulating datasets"
   ]
  },
  {
   "cell_type": "code",
   "execution_count": 7,
   "metadata": {},
   "outputs": [],
   "source": [
    "adv = pd.read_csv(r'D:\\Studies\\Term4\\MLAP\\Mid term\\Advertising.csv')\n",
    "\n",
    "#Reads data into pandas dataframe 'adv'"
   ]
  },
  {
   "cell_type": "code",
   "execution_count": 8,
   "metadata": {
    "scrolled": true
   },
   "outputs": [
    {
     "name": "stdout",
     "output_type": "stream",
     "text": [
      "<class 'pandas.core.frame.DataFrame'>\n",
      "RangeIndex: 200 entries, 0 to 199\n",
      "Data columns (total 6 columns):\n",
      "Sno          200 non-null int64\n",
      "TV           199 non-null float64\n",
      "Radio        199 non-null float64\n",
      "Newspaper    199 non-null float64\n",
      "Day          197 non-null object\n",
      "Sales        200 non-null float64\n",
      "dtypes: float64(4), int64(1), object(1)\n",
      "memory usage: 9.5+ KB\n"
     ]
    }
   ],
   "source": [
    "adv.info()\n",
    "\n",
    "#Gives information about the datatypes for data found in the dataset"
   ]
  },
  {
   "cell_type": "code",
   "execution_count": 9,
   "metadata": {},
   "outputs": [],
   "source": [
    "adv = adv.dropna()\n",
    "\n",
    "#Drops missing values from the dataset"
   ]
  },
  {
   "cell_type": "code",
   "execution_count": 10,
   "metadata": {},
   "outputs": [
    {
     "name": "stdout",
     "output_type": "stream",
     "text": [
      "<class 'pandas.core.frame.DataFrame'>\n",
      "Int64Index: 197 entries, 0 to 199\n",
      "Data columns (total 6 columns):\n",
      "Sno          197 non-null int64\n",
      "TV           197 non-null float64\n",
      "Radio        197 non-null float64\n",
      "Newspaper    197 non-null float64\n",
      "Day          197 non-null object\n",
      "Sales        197 non-null float64\n",
      "dtypes: float64(4), int64(1), object(1)\n",
      "memory usage: 10.8+ KB\n"
     ]
    }
   ],
   "source": [
    "adv.info()\n",
    "\n",
    "#The following data was missing: TV - 1, Radio - 1, Newspaper - 1, Day - 3. And the result shows total of 3 rows were dropped from the dataset for containing missing values.\n",
    "#It also suggests that missing values in TV, Radio and Newspaper columns were in the same rows as misisng values in Day column"
   ]
  },
  {
   "cell_type": "code",
   "execution_count": 11,
   "metadata": {},
   "outputs": [
    {
     "data": {
      "text/plain": [
       "array(['Weekend', 'Weekdays', 'Holiday'], dtype=object)"
      ]
     },
     "execution_count": 11,
     "metadata": {},
     "output_type": "execute_result"
    }
   ],
   "source": [
    "adv['Day'].unique()\n",
    "\n",
    "#Identified the column containing categorical variables and obtaining a list of unique values present in the column"
   ]
  },
  {
   "cell_type": "code",
   "execution_count": 12,
   "metadata": {},
   "outputs": [
    {
     "data": {
      "text/html": [
       "<div>\n",
       "<style scoped>\n",
       "    .dataframe tbody tr th:only-of-type {\n",
       "        vertical-align: middle;\n",
       "    }\n",
       "\n",
       "    .dataframe tbody tr th {\n",
       "        vertical-align: top;\n",
       "    }\n",
       "\n",
       "    .dataframe thead th {\n",
       "        text-align: right;\n",
       "    }\n",
       "</style>\n",
       "<table border=\"1\" class=\"dataframe\">\n",
       "  <thead>\n",
       "    <tr style=\"text-align: right;\">\n",
       "      <th></th>\n",
       "      <th>Holiday</th>\n",
       "      <th>Weekdays</th>\n",
       "      <th>Weekend</th>\n",
       "    </tr>\n",
       "  </thead>\n",
       "  <tbody>\n",
       "    <tr>\n",
       "      <th>0</th>\n",
       "      <td>0</td>\n",
       "      <td>0</td>\n",
       "      <td>1</td>\n",
       "    </tr>\n",
       "    <tr>\n",
       "      <th>1</th>\n",
       "      <td>0</td>\n",
       "      <td>1</td>\n",
       "      <td>0</td>\n",
       "    </tr>\n",
       "    <tr>\n",
       "      <th>2</th>\n",
       "      <td>0</td>\n",
       "      <td>1</td>\n",
       "      <td>0</td>\n",
       "    </tr>\n",
       "    <tr>\n",
       "      <th>3</th>\n",
       "      <td>0</td>\n",
       "      <td>1</td>\n",
       "      <td>0</td>\n",
       "    </tr>\n",
       "    <tr>\n",
       "      <th>4</th>\n",
       "      <td>0</td>\n",
       "      <td>1</td>\n",
       "      <td>0</td>\n",
       "    </tr>\n",
       "    <tr>\n",
       "      <th>5</th>\n",
       "      <td>0</td>\n",
       "      <td>1</td>\n",
       "      <td>0</td>\n",
       "    </tr>\n",
       "    <tr>\n",
       "      <th>6</th>\n",
       "      <td>0</td>\n",
       "      <td>1</td>\n",
       "      <td>0</td>\n",
       "    </tr>\n",
       "    <tr>\n",
       "      <th>7</th>\n",
       "      <td>0</td>\n",
       "      <td>1</td>\n",
       "      <td>0</td>\n",
       "    </tr>\n",
       "    <tr>\n",
       "      <th>8</th>\n",
       "      <td>0</td>\n",
       "      <td>1</td>\n",
       "      <td>0</td>\n",
       "    </tr>\n",
       "    <tr>\n",
       "      <th>9</th>\n",
       "      <td>0</td>\n",
       "      <td>1</td>\n",
       "      <td>0</td>\n",
       "    </tr>\n",
       "    <tr>\n",
       "      <th>10</th>\n",
       "      <td>0</td>\n",
       "      <td>1</td>\n",
       "      <td>0</td>\n",
       "    </tr>\n",
       "    <tr>\n",
       "      <th>11</th>\n",
       "      <td>0</td>\n",
       "      <td>1</td>\n",
       "      <td>0</td>\n",
       "    </tr>\n",
       "    <tr>\n",
       "      <th>12</th>\n",
       "      <td>0</td>\n",
       "      <td>1</td>\n",
       "      <td>0</td>\n",
       "    </tr>\n",
       "    <tr>\n",
       "      <th>13</th>\n",
       "      <td>0</td>\n",
       "      <td>1</td>\n",
       "      <td>0</td>\n",
       "    </tr>\n",
       "    <tr>\n",
       "      <th>14</th>\n",
       "      <td>0</td>\n",
       "      <td>1</td>\n",
       "      <td>0</td>\n",
       "    </tr>\n",
       "  </tbody>\n",
       "</table>\n",
       "</div>"
      ],
      "text/plain": [
       "    Holiday  Weekdays  Weekend\n",
       "0         0         0        1\n",
       "1         0         1        0\n",
       "2         0         1        0\n",
       "3         0         1        0\n",
       "4         0         1        0\n",
       "5         0         1        0\n",
       "6         0         1        0\n",
       "7         0         1        0\n",
       "8         0         1        0\n",
       "9         0         1        0\n",
       "10        0         1        0\n",
       "11        0         1        0\n",
       "12        0         1        0\n",
       "13        0         1        0\n",
       "14        0         1        0"
      ]
     },
     "execution_count": 12,
     "metadata": {},
     "output_type": "execute_result"
    }
   ],
   "source": [
    "pd.get_dummies(adv['Day'])[0:15]\n",
    "\n",
    "#Assign dummy variables to the data and print top 15 rows"
   ]
  },
  {
   "cell_type": "code",
   "execution_count": 13,
   "metadata": {},
   "outputs": [],
   "source": [
    "categorical_features = ['Day']"
   ]
  },
  {
   "cell_type": "code",
   "execution_count": 14,
   "metadata": {},
   "outputs": [
    {
     "name": "stdout",
     "output_type": "stream",
     "text": [
      "Index(['Sno', 'TV', 'Radio', 'Newspaper', 'Day', 'Sales'], dtype='object')\n"
     ]
    }
   ],
   "source": [
    "X_features = adv.columns\n",
    "print(X_features)"
   ]
  },
  {
   "cell_type": "code",
   "execution_count": 15,
   "metadata": {},
   "outputs": [],
   "source": [
    "X_features = X_features.drop('Sales')\n",
    "X_features = X_features.drop('Sno')"
   ]
  },
  {
   "cell_type": "code",
   "execution_count": 16,
   "metadata": {},
   "outputs": [
    {
     "name": "stdout",
     "output_type": "stream",
     "text": [
      "Index(['TV', 'Radio', 'Newspaper', 'Day'], dtype='object')\n"
     ]
    }
   ],
   "source": [
    "print(X_features)\n",
    "\n",
    "#Creating a matrix of features with only dependent variables by dropping 'Sales' column"
   ]
  },
  {
   "cell_type": "code",
   "execution_count": 17,
   "metadata": {},
   "outputs": [],
   "source": [
    "adv_encoded = pd.get_dummies(adv[X_features], columns = categorical_features)\n",
    "\n",
    "#Adding the dummy variables created to the total set of dependent variables"
   ]
  },
  {
   "cell_type": "code",
   "execution_count": 18,
   "metadata": {},
   "outputs": [
    {
     "name": "stdout",
     "output_type": "stream",
     "text": [
      "Index(['TV', 'Radio', 'Newspaper', 'Day_Holiday', 'Day_Weekdays',\n",
      "       'Day_Weekend'],\n",
      "      dtype='object')\n"
     ]
    }
   ],
   "source": [
    "print(adv_encoded.columns)\n",
    "\n",
    "#Printing the total set of dependent variables"
   ]
  },
  {
   "cell_type": "code",
   "execution_count": 19,
   "metadata": {
    "scrolled": true
   },
   "outputs": [
    {
     "data": {
      "text/html": [
       "<div>\n",
       "<style scoped>\n",
       "    .dataframe tbody tr th:only-of-type {\n",
       "        vertical-align: middle;\n",
       "    }\n",
       "\n",
       "    .dataframe tbody tr th {\n",
       "        vertical-align: top;\n",
       "    }\n",
       "\n",
       "    .dataframe thead th {\n",
       "        text-align: right;\n",
       "    }\n",
       "</style>\n",
       "<table border=\"1\" class=\"dataframe\">\n",
       "  <thead>\n",
       "    <tr style=\"text-align: right;\">\n",
       "      <th></th>\n",
       "      <th>Sno</th>\n",
       "      <th>TV</th>\n",
       "      <th>Radio</th>\n",
       "      <th>Newspaper</th>\n",
       "      <th>Sales</th>\n",
       "    </tr>\n",
       "  </thead>\n",
       "  <tbody>\n",
       "    <tr>\n",
       "      <th>count</th>\n",
       "      <td>197.000000</td>\n",
       "      <td>197.000000</td>\n",
       "      <td>197.000000</td>\n",
       "      <td>197.000000</td>\n",
       "      <td>197.000000</td>\n",
       "    </tr>\n",
       "    <tr>\n",
       "      <th>mean</th>\n",
       "      <td>101.375635</td>\n",
       "      <td>146.242132</td>\n",
       "      <td>23.152284</td>\n",
       "      <td>30.375635</td>\n",
       "      <td>14.102030</td>\n",
       "    </tr>\n",
       "    <tr>\n",
       "      <th>std</th>\n",
       "      <td>57.818691</td>\n",
       "      <td>85.439138</td>\n",
       "      <td>14.922793</td>\n",
       "      <td>20.972370</td>\n",
       "      <td>5.192302</td>\n",
       "    </tr>\n",
       "    <tr>\n",
       "      <th>min</th>\n",
       "      <td>1.000000</td>\n",
       "      <td>0.700000</td>\n",
       "      <td>0.000000</td>\n",
       "      <td>0.300000</td>\n",
       "      <td>1.600000</td>\n",
       "    </tr>\n",
       "    <tr>\n",
       "      <th>25%</th>\n",
       "      <td>52.000000</td>\n",
       "      <td>74.700000</td>\n",
       "      <td>9.900000</td>\n",
       "      <td>12.900000</td>\n",
       "      <td>10.400000</td>\n",
       "    </tr>\n",
       "    <tr>\n",
       "      <th>50%</th>\n",
       "      <td>102.000000</td>\n",
       "      <td>149.700000</td>\n",
       "      <td>22.300000</td>\n",
       "      <td>25.900000</td>\n",
       "      <td>12.900000</td>\n",
       "    </tr>\n",
       "    <tr>\n",
       "      <th>75%</th>\n",
       "      <td>151.000000</td>\n",
       "      <td>218.400000</td>\n",
       "      <td>36.500000</td>\n",
       "      <td>45.100000</td>\n",
       "      <td>17.400000</td>\n",
       "    </tr>\n",
       "    <tr>\n",
       "      <th>max</th>\n",
       "      <td>200.000000</td>\n",
       "      <td>296.400000</td>\n",
       "      <td>49.600000</td>\n",
       "      <td>100.900000</td>\n",
       "      <td>27.000000</td>\n",
       "    </tr>\n",
       "  </tbody>\n",
       "</table>\n",
       "</div>"
      ],
      "text/plain": [
       "              Sno          TV       Radio   Newspaper       Sales\n",
       "count  197.000000  197.000000  197.000000  197.000000  197.000000\n",
       "mean   101.375635  146.242132   23.152284   30.375635   14.102030\n",
       "std     57.818691   85.439138   14.922793   20.972370    5.192302\n",
       "min      1.000000    0.700000    0.000000    0.300000    1.600000\n",
       "25%     52.000000   74.700000    9.900000   12.900000   10.400000\n",
       "50%    102.000000  149.700000   22.300000   25.900000   12.900000\n",
       "75%    151.000000  218.400000   36.500000   45.100000   17.400000\n",
       "max    200.000000  296.400000   49.600000  100.900000   27.000000"
      ]
     },
     "execution_count": 19,
     "metadata": {},
     "output_type": "execute_result"
    }
   ],
   "source": [
    "adv.describe()\n",
    "\n",
    "#Descriptive summary of all numerical variables"
   ]
  },
  {
   "cell_type": "markdown",
   "metadata": {},
   "source": [
    "# Visualization"
   ]
  },
  {
   "cell_type": "code",
   "execution_count": 20,
   "metadata": {},
   "outputs": [],
   "source": [
    "import seaborn as sn\n",
    "import matplotlib.pyplot as plt\n",
    "\n",
    "#Importing visualization packages"
   ]
  },
  {
   "cell_type": "code",
   "execution_count": 21,
   "metadata": {},
   "outputs": [
    {
     "data": {
      "text/plain": [
       "<matplotlib.axes._subplots.AxesSubplot at 0x1c3ff1174a8>"
      ]
     },
     "execution_count": 21,
     "metadata": {},
     "output_type": "execute_result"
    },
    {
     "data": {
      "image/png": "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\n",
      "text/plain": [
       "<Figure size 432x288 with 1 Axes>"
      ]
     },
     "metadata": {
      "needs_background": "light"
     },
     "output_type": "display_data"
    }
   ],
   "source": [
    "sn.scatterplot(x = 'Newspaper', y = 'Sales', data = adv) \n",
    "\n",
    "#Scatterplot for Newpsaper and Sales\n",
    "#Sales have been quite good with respect to newspaper advertisement (0-40 units)"
   ]
  },
  {
   "cell_type": "code",
   "execution_count": 22,
   "metadata": {
    "scrolled": true
   },
   "outputs": [
    {
     "data": {
      "image/png": "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\n",
      "text/plain": [
       "<Figure size 432x288 with 1 Axes>"
      ]
     },
     "metadata": {
      "needs_background": "light"
     },
     "output_type": "display_data"
    }
   ],
   "source": [
    "sn.lineplot(x = \"Radio\", y = \"Sales\", data = adv)\n",
    "plt.show()  \n",
    "\n",
    "#Line Plot for Radio and Sales"
   ]
  },
  {
   "cell_type": "code",
   "execution_count": 23,
   "metadata": {},
   "outputs": [
    {
     "data": {
      "text/plain": [
       "<matplotlib.axes._subplots.AxesSubplot at 0x1c3ff28aeb8>"
      ]
     },
     "execution_count": 23,
     "metadata": {},
     "output_type": "execute_result"
    },
    {
     "data": {
      "image/png": "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\n",
      "text/plain": [
       "<Figure size 720x360 with 2 Axes>"
      ]
     },
     "metadata": {
      "needs_background": "light"
     },
     "output_type": "display_data"
    }
   ],
   "source": [
    "import pandas as pd\n",
    "import numpy as np\n",
    "import seaborn as sns\n",
    "import matplotlib.pyplot as plt\n",
    "%matplotlib inline\n",
    "plt.figure(figsize=(10,5))\n",
    "sns.heatmap(adv_encoded.corr(), annot = True)\n",
    "\n",
    "#Heat map to map the understand the correlation of variables amongst themselves\n",
    "#The variables are not very much correlated to each other\n",
    "#TV and Day_Weekdays are correlated; Day_Weekday and Day_Weekend are correlated"
   ]
  },
  {
   "cell_type": "code",
   "execution_count": 24,
   "metadata": {
    "scrolled": false
   },
   "outputs": [],
   "source": [
    "import warnings\n",
    "warnings.filterwarnings('ignore')\n",
    "import statsmodels.api as sm\n",
    "from sklearn.model_selection import train_test_split\n",
    "\n",
    "X = sm.add_constant( adv_encoded )\n",
    "Y = adv['Sales']\n",
    "train_X, test_X, train_y, test_y = train_test_split( X, Y, train_size = 0.7, random_state = 21 )\n",
    "\n",
    "#Adding constand term to matrix of features, splitting dataset into training and test dataset"
   ]
  },
  {
   "cell_type": "code",
   "execution_count": 25,
   "metadata": {
    "scrolled": false
   },
   "outputs": [
    {
     "data": {
      "text/html": [
       "<table class=\"simpletable\">\n",
       "<tr>\n",
       "        <td>Model:</td>               <td>OLS</td>         <td>Adj. R-squared:</td>    <td>-0.031</td> \n",
       "</tr>\n",
       "<tr>\n",
       "  <td>Dependent Variable:</td>       <td>Sales</td>             <td>AIC:</td>         <td>859.6206</td>\n",
       "</tr>\n",
       "<tr>\n",
       "         <td>Date:</td>        <td>2020-08-11 22:57</td>        <td>BIC:</td>         <td>877.1405</td>\n",
       "</tr>\n",
       "<tr>\n",
       "   <td>No. Observations:</td>         <td>137</td>         <td>Log-Likelihood:</td>    <td>-423.81</td>\n",
       "</tr>\n",
       "<tr>\n",
       "       <td>Df Model:</td>              <td>5</td>           <td>F-statistic:</td>      <td>0.1697</td> \n",
       "</tr>\n",
       "<tr>\n",
       "     <td>Df Residuals:</td>           <td>131</td>       <td>Prob (F-statistic):</td>   <td>0.973</td> \n",
       "</tr>\n",
       "<tr>\n",
       "      <td>R-squared:</td>            <td>0.006</td>            <td>Scale:</td>         <td>29.782</td> \n",
       "</tr>\n",
       "</table>\n",
       "<table class=\"simpletable\">\n",
       "<tr>\n",
       "        <td></td>        <th>Coef.</th>  <th>Std.Err.</th>    <th>t</th>     <th>P>|t|</th> <th>[0.025</th>  <th>0.975]</th> \n",
       "</tr>\n",
       "<tr>\n",
       "  <th>const</th>        <td>11.7437</td>  <td>1.5585</td>  <td>7.5350</td>  <td>0.0000</td> <td>8.6605</td>  <td>14.8268</td>\n",
       "</tr>\n",
       "<tr>\n",
       "  <th>TV</th>           <td>-0.0015</td>  <td>0.0076</td>  <td>-0.2016</td> <td>0.8405</td> <td>-0.0165</td> <td>0.0134</td> \n",
       "</tr>\n",
       "<tr>\n",
       "  <th>Radio</th>        <td>-0.0094</td>  <td>0.0328</td>  <td>-0.2860</td> <td>0.7753</td> <td>-0.0743</td> <td>0.0555</td> \n",
       "</tr>\n",
       "<tr>\n",
       "  <th>Newspaper</th>    <td>0.0009</td>   <td>0.0237</td>  <td>0.0392</td>  <td>0.9688</td> <td>-0.0459</td> <td>0.0477</td> \n",
       "</tr>\n",
       "<tr>\n",
       "  <th>Day_Holiday</th>  <td>4.7327</td>   <td>2.4875</td>  <td>1.9026</td>  <td>0.0593</td> <td>-0.1882</td> <td>9.6537</td> \n",
       "</tr>\n",
       "<tr>\n",
       "  <th>Day_Weekdays</th> <td>2.9812</td>   <td>1.0010</td>  <td>2.9782</td>  <td>0.0035</td> <td>1.0010</td>  <td>4.9614</td> \n",
       "</tr>\n",
       "<tr>\n",
       "  <th>Day_Weekend</th>  <td>4.0297</td>   <td>1.4033</td>  <td>2.8715</td>  <td>0.0048</td> <td>1.2536</td>  <td>6.8059</td> \n",
       "</tr>\n",
       "</table>\n",
       "<table class=\"simpletable\">\n",
       "<tr>\n",
       "     <td>Omnibus:</td>    <td>11.397</td>  <td>Durbin-Watson:</td>          <td>1.740</td>       \n",
       "</tr>\n",
       "<tr>\n",
       "  <td>Prob(Omnibus):</td>  <td>0.003</td> <td>Jarque-Bera (JB):</td>        <td>8.053</td>       \n",
       "</tr>\n",
       "<tr>\n",
       "       <td>Skew:</td>      <td>0.468</td>     <td>Prob(JB):</td>            <td>0.018</td>       \n",
       "</tr>\n",
       "<tr>\n",
       "     <td>Kurtosis:</td>    <td>2.268</td>  <td>Condition No.:</td>   <td>1719219510670230272</td>\n",
       "</tr>\n",
       "</table>"
      ],
      "text/plain": [
       "<class 'statsmodels.iolib.summary2.Summary'>\n",
       "\"\"\"\n",
       "                 Results: Ordinary least squares\n",
       "=================================================================\n",
       "Model:              OLS              Adj. R-squared:     -0.031  \n",
       "Dependent Variable: Sales            AIC:                859.6206\n",
       "Date:               2020-08-11 22:57 BIC:                877.1405\n",
       "No. Observations:   137              Log-Likelihood:     -423.81 \n",
       "Df Model:           5                F-statistic:        0.1697  \n",
       "Df Residuals:       131              Prob (F-statistic): 0.973   \n",
       "R-squared:          0.006            Scale:              29.782  \n",
       "------------------------------------------------------------------\n",
       "               Coef.   Std.Err.     t     P>|t|    [0.025   0.975]\n",
       "------------------------------------------------------------------\n",
       "const         11.7437    1.5585   7.5350  0.0000   8.6605  14.8268\n",
       "TV            -0.0015    0.0076  -0.2016  0.8405  -0.0165   0.0134\n",
       "Radio         -0.0094    0.0328  -0.2860  0.7753  -0.0743   0.0555\n",
       "Newspaper      0.0009    0.0237   0.0392  0.9688  -0.0459   0.0477\n",
       "Day_Holiday    4.7327    2.4875   1.9026  0.0593  -0.1882   9.6537\n",
       "Day_Weekdays   2.9812    1.0010   2.9782  0.0035   1.0010   4.9614\n",
       "Day_Weekend    4.0297    1.4033   2.8715  0.0048   1.2536   6.8059\n",
       "-----------------------------------------------------------------\n",
       "Omnibus:         11.397   Durbin-Watson:      1.740              \n",
       "Prob(Omnibus):   0.003    Jarque-Bera (JB):   8.053              \n",
       "Skew:            0.468    Prob(JB):           0.018              \n",
       "Kurtosis:        2.268    Condition No.:      1719219510670230272\n",
       "=================================================================\n",
       "* The condition number is large (2e+18). This might indicate\n",
       "strong multicollinearity or other numerical problems.\n",
       "\"\"\""
      ]
     },
     "execution_count": 25,
     "metadata": {},
     "output_type": "execute_result"
    }
   ],
   "source": [
    "adv_model_1 = sm.OLS(train_y, train_X).fit()\n",
    "adv_model_1.summary2()\n",
    "\n",
    "#Model fitting and understanding the summary of the model"
   ]
  },
  {
   "cell_type": "markdown",
   "metadata": {},
   "source": [
    "# Multicollinearity Test"
   ]
  },
  {
   "cell_type": "code",
   "execution_count": 26,
   "metadata": {},
   "outputs": [],
   "source": [
    "import warnings\n",
    "warnings.filterwarnings('ignore')\n",
    "\n",
    "from statsmodels.stats.outliers_influence import variance_inflation_factor\n",
    "def get_vif_factors( X ):\n",
    "    X_matrix = X.as_matrix()\n",
    "    vif = [ variance_inflation_factor( X_matrix, i ) for i in range( X_matrix.shape[1] ) ]\n",
    "    vif_factors = pd.DataFrame()\n",
    "    vif_factors['column'] = X.columns\n",
    "    vif_factors['vif'] = vif\n",
    "    return vif_factors\n",
    "\n",
    "#creating VIF calculations"
   ]
  },
  {
   "cell_type": "code",
   "execution_count": 27,
   "metadata": {},
   "outputs": [
    {
     "data": {
      "text/html": [
       "<div>\n",
       "<style scoped>\n",
       "    .dataframe tbody tr th:only-of-type {\n",
       "        vertical-align: middle;\n",
       "    }\n",
       "\n",
       "    .dataframe tbody tr th {\n",
       "        vertical-align: top;\n",
       "    }\n",
       "\n",
       "    .dataframe thead th {\n",
       "        text-align: right;\n",
       "    }\n",
       "</style>\n",
       "<table border=\"1\" class=\"dataframe\">\n",
       "  <thead>\n",
       "    <tr style=\"text-align: right;\">\n",
       "      <th></th>\n",
       "      <th>column</th>\n",
       "      <th>vif</th>\n",
       "    </tr>\n",
       "  </thead>\n",
       "  <tbody>\n",
       "    <tr>\n",
       "      <th>0</th>\n",
       "      <td>TV</td>\n",
       "      <td>1.979924</td>\n",
       "    </tr>\n",
       "    <tr>\n",
       "      <th>1</th>\n",
       "      <td>Radio</td>\n",
       "      <td>1.155789</td>\n",
       "    </tr>\n",
       "    <tr>\n",
       "      <th>2</th>\n",
       "      <td>Newspaper</td>\n",
       "      <td>1.169096</td>\n",
       "    </tr>\n",
       "    <tr>\n",
       "      <th>3</th>\n",
       "      <td>Day_Holiday</td>\n",
       "      <td>1.441919</td>\n",
       "    </tr>\n",
       "    <tr>\n",
       "      <th>4</th>\n",
       "      <td>Day_Weekdays</td>\n",
       "      <td>5.846296</td>\n",
       "    </tr>\n",
       "    <tr>\n",
       "      <th>5</th>\n",
       "      <td>Day_Weekend</td>\n",
       "      <td>5.383447</td>\n",
       "    </tr>\n",
       "  </tbody>\n",
       "</table>\n",
       "</div>"
      ],
      "text/plain": [
       "         column       vif\n",
       "0            TV  1.979924\n",
       "1         Radio  1.155789\n",
       "2     Newspaper  1.169096\n",
       "3   Day_Holiday  1.441919\n",
       "4  Day_Weekdays  5.846296\n",
       "5   Day_Weekend  5.383447"
      ]
     },
     "execution_count": 27,
     "metadata": {},
     "output_type": "execute_result"
    }
   ],
   "source": [
    "vif_factors = get_vif_factors( X[adv_encoded.columns] )\n",
    "vif_factors\n",
    "\n",
    "#Calculating VIF for list of columns"
   ]
  },
  {
   "cell_type": "code",
   "execution_count": 74,
   "metadata": {},
   "outputs": [],
   "source": [
    "columns_with_large_vif = vif_factors[vif_factors.vif > 4].column\n",
    "\n",
    "#Removing columns with VIF > 4"
   ]
  },
  {
   "cell_type": "code",
   "execution_count": 75,
   "metadata": {},
   "outputs": [
    {
     "name": "stdout",
     "output_type": "stream",
     "text": [
      "4    Day_Weekdays\n",
      "5     Day_Weekend\n",
      "Name: column, dtype: object\n"
     ]
    }
   ],
   "source": [
    "print(columns_with_large_vif)"
   ]
  },
  {
   "cell_type": "code",
   "execution_count": 76,
   "metadata": {},
   "outputs": [],
   "source": [
    "columns_to_be_removed = ['Day_Weekdays']\n",
    "\n",
    "#Choosing Day_Weekdays column as it is redundant"
   ]
  },
  {
   "cell_type": "code",
   "execution_count": 77,
   "metadata": {},
   "outputs": [],
   "source": [
    "X_new_features = list( set(adv_encoded) - set(columns_to_be_removed) )\n",
    "\n",
    "#Removing Day_Weekday column as it is redundant"
   ]
  },
  {
   "cell_type": "code",
   "execution_count": 78,
   "metadata": {},
   "outputs": [
    {
     "name": "stdout",
     "output_type": "stream",
     "text": [
      "['Radio', 'Day_Weekend', 'Newspaper', 'Day_Holiday', 'TV']\n"
     ]
    }
   ],
   "source": [
    "print(X_new_features)"
   ]
  },
  {
   "cell_type": "markdown",
   "metadata": {},
   "source": [
    "# Model after eliminating multicollinearity"
   ]
  },
  {
   "cell_type": "code",
   "execution_count": 79,
   "metadata": {},
   "outputs": [
    {
     "data": {
      "text/html": [
       "<table class=\"simpletable\">\n",
       "<tr>\n",
       "          <td>Model:</td>                 <td>OLS</td>       <td>Adj. R-squared (uncentered):</td>   <td>0.742</td> \n",
       "</tr>\n",
       "<tr>\n",
       "    <td>Dependent Variable:</td>         <td>Sales</td>                  <td>AIC:</td>             <td>950.3354</td>\n",
       "</tr>\n",
       "<tr>\n",
       "           <td>Date:</td>          <td>2020-08-11 17:55</td>             <td>BIC:</td>             <td>964.9353</td>\n",
       "</tr>\n",
       "<tr>\n",
       "     <td>No. Observations:</td>           <td>137</td>              <td>Log-Likelihood:</td>        <td>-470.17</td>\n",
       "</tr>\n",
       "<tr>\n",
       "         <td>Df Model:</td>                <td>5</td>                <td>F-statistic:</td>           <td>79.89</td> \n",
       "</tr>\n",
       "<tr>\n",
       "       <td>Df Residuals:</td>             <td>132</td>            <td>Prob (F-statistic):</td>     <td>3.25e-38</td>\n",
       "</tr>\n",
       "<tr>\n",
       "  <td>R-squared (uncentered):</td>       <td>0.752</td>                 <td>Scale:</td>             <td>58.152</td> \n",
       "</tr>\n",
       "</table>\n",
       "<table class=\"simpletable\">\n",
       "<tr>\n",
       "       <td></td>        <th>Coef.</th>  <th>Std.Err.</th>    <th>t</th>     <th>P>|t|</th>  <th>[0.025</th>  <th>0.975]</th> \n",
       "</tr>\n",
       "<tr>\n",
       "  <th>Radio</th>       <td>0.1131</td>   <td>0.0462</td>  <td>2.4492</td>  <td>0.0156</td>  <td>0.0217</td>  <td>0.2044</td> \n",
       "</tr>\n",
       "<tr>\n",
       "  <th>Day_Weekend</th> <td>-6.2714</td>  <td>2.1204</td>  <td>-2.9577</td> <td>0.0037</td> <td>-10.4658</td> <td>-2.0771</td>\n",
       "</tr>\n",
       "<tr>\n",
       "  <th>Newspaper</th>   <td>0.0831</td>   <td>0.0324</td>  <td>2.5673</td>  <td>0.0114</td>  <td>0.0191</td>  <td>0.1471</td> \n",
       "</tr>\n",
       "<tr>\n",
       "  <th>Day_Holiday</th> <td>-7.9275</td>  <td>4.0991</td>  <td>-1.9340</td> <td>0.0553</td> <td>-16.0359</td> <td>0.1808</td> \n",
       "</tr>\n",
       "<tr>\n",
       "  <th>TV</th>          <td>0.0585</td>   <td>0.0083</td>  <td>7.0315</td>  <td>0.0000</td>  <td>0.0421</td>  <td>0.0750</td> \n",
       "</tr>\n",
       "</table>\n",
       "<table class=\"simpletable\">\n",
       "<tr>\n",
       "     <td>Omnibus:</td>    <td>4.446</td>  <td>Durbin-Watson:</td>   <td>1.791</td>\n",
       "</tr>\n",
       "<tr>\n",
       "  <td>Prob(Omnibus):</td> <td>0.108</td> <td>Jarque-Bera (JB):</td> <td>3.983</td>\n",
       "</tr>\n",
       "<tr>\n",
       "       <td>Skew:</td>     <td>0.404</td>     <td>Prob(JB):</td>     <td>0.136</td>\n",
       "</tr>\n",
       "<tr>\n",
       "     <td>Kurtosis:</td>   <td>3.215</td>  <td>Condition No.:</td>   <td>1105</td> \n",
       "</tr>\n",
       "</table>"
      ],
      "text/plain": [
       "<class 'statsmodels.iolib.summary2.Summary'>\n",
       "\"\"\"\n",
       "                       Results: Ordinary least squares\n",
       "==============================================================================\n",
       "Model:                  OLS              Adj. R-squared (uncentered): 0.742   \n",
       "Dependent Variable:     Sales            AIC:                         950.3354\n",
       "Date:                   2020-08-11 17:55 BIC:                         964.9353\n",
       "No. Observations:       137              Log-Likelihood:              -470.17 \n",
       "Df Model:               5                F-statistic:                 79.89   \n",
       "Df Residuals:           132              Prob (F-statistic):          3.25e-38\n",
       "R-squared (uncentered): 0.752            Scale:                       58.152  \n",
       "---------------------------------------------------------------------------------\n",
       "                   Coef.     Std.Err.       t       P>|t|      [0.025      0.975]\n",
       "---------------------------------------------------------------------------------\n",
       "Radio              0.1131      0.0462     2.4492    0.0156      0.0217     0.2044\n",
       "Day_Weekend       -6.2714      2.1204    -2.9577    0.0037    -10.4658    -2.0771\n",
       "Newspaper          0.0831      0.0324     2.5673    0.0114      0.0191     0.1471\n",
       "Day_Holiday       -7.9275      4.0991    -1.9340    0.0553    -16.0359     0.1808\n",
       "TV                 0.0585      0.0083     7.0315    0.0000      0.0421     0.0750\n",
       "------------------------------------------------------------------------------\n",
       "Omnibus:                   4.446            Durbin-Watson:               1.791\n",
       "Prob(Omnibus):             0.108            Jarque-Bera (JB):            3.983\n",
       "Skew:                      0.404            Prob(JB):                    0.136\n",
       "Kurtosis:                  3.215            Condition No.:               1105 \n",
       "==============================================================================\n",
       "* The condition number is large (1e+03). This might indicate\n",
       "strong multicollinearity or other numerical problems.\n",
       "\"\"\""
      ]
     },
     "execution_count": 79,
     "metadata": {},
     "output_type": "execute_result"
    }
   ],
   "source": [
    "train_X = train_X[X_new_features]\n",
    "adv_model_2 = sm.OLS(train_y, train_X).fit()\n",
    "adv_model_2.summary2()\n",
    "\n",
    "#Model fitting after VIF and removing redundant variable"
   ]
  },
  {
   "cell_type": "markdown",
   "metadata": {},
   "source": [
    "# Residual analysis"
   ]
  },
  {
   "cell_type": "code",
   "execution_count": 80,
   "metadata": {},
   "outputs": [],
   "source": [
    "import matplotlib.pyplot as plt\n",
    "import seaborn as sn\n",
    "%matplotlib inline\n",
    "def draw_pp_plot( model, title ):\n",
    "    probplot = sm.ProbPlot( model.resid );\n",
    "    plt.figure( figsize = (8, 6) );\n",
    "    probplot.ppplot( line='45' );\n",
    "    plt.title( title );\n",
    "    plt.show();\n",
    "    \n",
    "# PP Plot for checking normality assumption of residuals"
   ]
  },
  {
   "cell_type": "code",
   "execution_count": 81,
   "metadata": {},
   "outputs": [
    {
     "data": {
      "text/plain": [
       "<Figure size 576x432 with 0 Axes>"
      ]
     },
     "metadata": {},
     "output_type": "display_data"
    },
    {
     "data": {
      "image/png": "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\n",
      "text/plain": [
       "<Figure size 432x288 with 1 Axes>"
      ]
     },
     "metadata": {
      "needs_background": "light"
     },
     "output_type": "display_data"
    }
   ],
   "source": [
    "draw_pp_plot( adv_model_2, \"Normal P-P Plot of Regression Standardized Residuals\");\n",
    "\n",
    "#Plotting graph for PP plot"
   ]
  },
  {
   "cell_type": "code",
   "execution_count": 82,
   "metadata": {},
   "outputs": [
    {
     "name": "stdout",
     "output_type": "stream",
     "text": [
      "Number of variables: 5  and number of observations: 137\n"
     ]
    }
   ],
   "source": [
    "k = train_X.shape[1]\n",
    "n = train_X.shape[0]\n",
    "\n",
    "print( \"Number of variables:\", k, \" and number of observations:\", n)"
   ]
  },
  {
   "cell_type": "code",
   "execution_count": 83,
   "metadata": {},
   "outputs": [
    {
     "name": "stdout",
     "output_type": "stream",
     "text": [
      "Number of variables: 5  and number of observations: 137\n",
      "Cutoff for leverage value:  0.131\n"
     ]
    }
   ],
   "source": [
    "k = train_X.shape[1]\n",
    "n = train_X.shape[0]\n",
    "print( \"Number of variables:\", k, \" and number of observations:\", n)\n",
    "leverage_cutoff = 3*((k + 1)/n)\n",
    "print( \"Cutoff for leverage value: \", round(leverage_cutoff, 3) )"
   ]
  },
  {
   "cell_type": "code",
   "execution_count": 103,
   "metadata": {},
   "outputs": [
    {
     "data": {
      "image/png": "iVBORw0KGgoAAAANSUhEUgAAAfUAAAGICAYAAABY9HkOAAAABHNCSVQICAgIfAhkiAAAAAlwSFlzAAALEgAACxIB0t1+/AAAADh0RVh0U29mdHdhcmUAbWF0cGxvdGxpYiB2ZXJzaW9uMy4xLjAsIGh0dHA6Ly9tYXRwbG90bGliLm9yZy+17YcXAAAgAElEQVR4nOzdd5xcVfn48c8zbXe292RTNwXSIR0TSgggJSIBoj8QRSkGQb4KGhFERBTxi4DGoIiIQEBAWuhfEIEQeksjJISEkF42ZfvOzE659/z+uJPNbrZkNpnNtuf9eu0rO3Pv3PvMbHafe8495zlijEEppZRSXZ+rowNQSimlVHJoUldKKaW6CU3qSimlVDehSV0ppZTqJjSpK6WUUt2EJnWllFKqm9CkrpRqQkQuEpF3OjqOjiAifxeRX7Wy3YjI0CSc5yYRefhQj6NUQ5rUVY+RrD/GnZ2IpIpIpYic1My2uSLyVHeIS0Tmi0hERGpFpFxEXhWR4YcapzHmcmPMzYd6HKU6giZ1pQ4TEfEcjvMYY+qAx4Hv7nd+N/At4MHDEcdhius2Y0wG0BfYBtx3qHEq1ZVpUlcKEJFLRGS1iFSIyCsiMjD+/N9F5I799n1ORH4a/76PiCwQkd0iskFEftxgv5tE5CkReVhEqoGLRGSyiLwfb7HuEJG/ioivwWtOFZE1IlIlIn8TkTdF5PsHirMZDwKzRCStwXOn4fzOvxw/1nUi8qWI1IjIZyJyTgufTUm8l8PT4LlF7RjXtSKyLR7XGhE5uYVj1TPGhIAngLH7xd7Sz1XivQO74p/1ChEZHd82X0R+1+AY18R/VttF5JL9jr//59DotoWIzBORLSJSLSJLROT45uKP92I8LCJl8f8bH4tIrwO9b6X2p0ld9XgicjZwPXAuUAi8Dfw7vvlR4DwRkfi+ucCpwGMi4gJeAD7BaSmeDFwtIqc1OPxM4CkgB3gEsICfAAXAlPhrfhg/dkF8318A+cAaYGqCcTZijHkP2BHfd68LgUeNMbH44y+B44Fs4DfAwyJSnMBH1kgy4xKRYcD/AJOMMZk4CX9jAjGk47T21yUY16nACcCROD+b84CyZo57OvAz4KvAEcApB4plPx/jXGjk4fxfelJEUpvZ73s4P4f+OD/7y4FQG8+llCZ1pYAfAP9rjFkdT3i/B8bGW3VvAwYn+QF8A3jfGLMdmAQUGmN+a4yJGGPWA/cC5zc49vvGmGeNMbYxJmSMWWKM+cAYEzPGbATuAabF950BrDLGPB2P406gNME4m/MQ8a5uEcnCucCo7+I2xjxpjNkej+1x4Atgcls/vCTHZQEpwEgR8RpjNhpjvmzl3D8TkUqgBjgO5wIhkbiiQCYwHJD4PjuaOf7/Ax4wxqw0xgSAm1r/KBozxjxsjCmL/7z/GH9vw5rZNYqTzIcaY6z4/5PqtpxLKdCkrhTAQGBevNuzEigHBOhrnBWPHsNpBQJcgNPi3vu6PntfF3/t9UDDbtMtDU8kIkeKyIsiUhrvkv89TqsdoE/D/ePn3ppInC28r4eA6SLSF+diZJ0xZlmDWL4rIssbHG90g1jaImlxGWPWAVfjJM9dIvKYiPRp5dx3GGNygBKclm3DhNnaz3Uh8FfgLmCniPwjfoGxv0Y/E2BTK7E0ISJz4t3/VfEYsmn+M/4X8ApOD9B2EblNRLxtOZdSoEldKXD+aP/AGJPT4Msf7yoGp8v2G/EW3jHAggav27Df6zKNMTMaHHv/ZRDvBj4HjjDGZOFcBEh82w6g394d413+/Rq89kBxNmKM2YzT0/BtnBbsQw2OPRCnV+F/gPx4YlzZIJaGAvF/G94H790eccW3P2qMOQ4nKRvgD80dp5ljXoWTxP2JxGWMudMYMwEYhdMNf00zh96B0yW+14D9tgdo4XOJ3z+/Fqe1nxv/jKto5jM2xkSNMb8xxozEueVyJvsNKFQqEZrUVU/jiw9K2vvlBv4O/EJERgGISLaIfHPvC+KtyN3AP4FXjDGV8U0fAdXxgV1+EXGLyGgRmdTK+TOBaqBWnOlXVzTY9n/AGBE5Oz4o7UoaJ89W42zBgziJ+1j29TAApOMkzN3xY12M01JvwhizG2dk+Xfi7/ESYEh7xCUiw0TkJBFJAepwWt/WAY61N85Xge3AZQeKS0Qmicgx8dZwIH6u5s7zBM4Ax5HiDO779X7blwPnikiaONMlL22wLROI4XzGHhG5EWiuNwARmS4iY+L/H6txuuMTet9KNaRJXfU0q3ASxd6vi40xz+C0Bh+Ld4mvBM7Y73X/xhkk9ejeJ4wxFvB1nIFQG4A9OIk/u5Xz/wynC78Gp6X8eIPj7QG+CdyGM2hrJLAYCMe3JxLn/p4CcoHXG94zNsZ8BvwReB/YCYwB3m3lOLNxWrJlOC3b+lZ4MuPCued8K85nWQoU4fRmJOp24OciknKAuLJwPv8KnC71MuCO/Q9mjHkZ+DOwEGcQ3sL9dpkLRHA+wwdpfOH0Cs6I/rXxc9Sx3+2YBnrjfCbVwGrgTUAL06g2E+e2nVKqs4mPrt8KfNsY80ZHx6OU6vy0pa5UJyIip4lITrz7ee/99g86OCylVBehSV2pzmUKzvzxPThd+2fHC6sopdQBafe7Ukop1U1oS/0QiMhGccpn7v+1qsE+aSJya3zfiDjlL3/TkXErpZTqnjSpHyQROQFnlOre4iB/AIbijKh+TJwa0AZnusy1OHNuvcAtOCOOEZETW7go+P7+51NKKaUOpMt3vxcUFJiSkpLDft6qqipqa2vx+/1s2bKFoqIiPB4PmzdvZsyYMVRXV7Np0yZcLhfDhw/H43HWwnC73bhczrVUTU0Na9euZcSIEXi9+4pHNdxHKaWUamjJkiV7jDGFzW3r8kl94sSJZvHixR0aQ0lJCd///vd59tlnGTBgAE8//TTz58/n4osv5uSTT+aYY47hX//6Fx6Ph5NPPplbb72V/Px8Fi1axPTp09myZQv9+vU78ImUUkr1eCKyxBgzsblt2hxMkm3btrFkyRJ+8IMfNHp+4cKF3HHHHRQUFHDppZfy4YcfMnPmTBpeTB133HEUFRUxdepUHnzwQbr6hZZSSqmOoUk9ST7++GMGDRrEqaeeCsCwYcPo1asXHo+HF154gRNOOIEbbriBmTNn8u6777Js2TKKi4u5++67eeqpp3jppZc47bTTmD17NjfeeGMHvxullFJdkaejA+gObNvm008/5Te/+Q3OGhwwZcoUhg8fzsaNGzn11FM59dRTKS8v59//dpZz3rRpE+eccw7Dhu1bVGrixIlYlsWf/vQnbrzxxkb32ZVSSqkD0ZZ6EgQCASzL4uKLL270/PHHH09paSnV1c6yyFOnTmXTJmflxpYG902dOpVAIMDu3bvbNWallFLdjyb1JKipqWH48OH06tWr0fM//OEP8fv9fO9732PlypW88soruN1upk2bxtixY5s91rJly/D7/RQUHMyy1koppXoy7X4/SLW1taxbt44VK1YQjUYZMmQIy5cvJyMjg6FDh3LTTTcxefJk5s+fzy233MK4ceOIxWJMmTKFp59+GhFh7ty5DBgwgFGjRiEivPLKK9x8881ceeWV+Hy+jn6LSimluhhN6gdp8eLFTJ8+vf7x888/z/PPP8+0adN44403qKis5Morr6S0tBS/38+kSZOYM2cOs2bNqn9NLBbj+uuvZ8uWLXi9XoYOHcq8efO49NJLmzulUkop1Sqdp55E63fX8tzy7bz62U4ilg3A2P7ZfGNCfyYOzMXj1rsdSimlDk1r89S1pX6IymrD/GflDh54dyPbKkO4XUJRZir5GT5cAqu2V7Ni60pGFGdx89mjyUrVEe1KKaXahzYdD8H7X+7hwvs+Yt7rX7ClIoRLBGNgR1Udq3fUEIraZPu95KZ5+WxHNb985lPCMaujw1ZKKdVNaVI/SJ9tr+amFz7DJYbasIXPLbhdzpfXLRhj+HJ3LZGYjYiQl+bl8x01vL1Wp6oppZRqH5rUD9L9727ABQQiFsaY+qIze7ldgm3D7powACJCitfFE4u3ahlYpZRS7UKT+kEorarj061VZPk9VAajuPZL6Hu5XUJ5IIIdz+HpPjcbywJUBKOHMVqllFI9hSb1g1BaXYfbJYgIljG0kNNxCRjAio+EF3G654OR2OELVimlVI+hSf0geFyCwez7voXedAMYQ33XvDGGmG1I9+mkA6WUUsmnSf0gDC5MxyVC1LLJTfNit5DVbWPweVx43E5Srw3HOLIok9x0rRanlFIq+TSpH4Q0n4fTR/emKhQjN82HIE0SuwFsG4oyU5zHxhCJGc6b1L8DIlZKKdUTaFI/SN+dUkJxdirVdTF6Z6dg2aY+sRsgZhnSU9zkpvswxlAeiDJuQA5Th+R3bOBKKaW6LU3qBynb7+XO88cxfkAubpeQmeolErMJRS0ilk1OmocBeWlUBaNUBKNMKsnjN2eN1lKxSiml2o2O2DoEuek+bp11FFsrgizeWMHW8iAbygKs3x0gGLGIWYZjh+Zz7vh+jOqT1WQuu1JKKZVMmtSToF9uGv1y0zo6DKWUUj1cp+oLFpFUEflIRD4RkVUi8puOjkkppZTqKjpbSz0MnGSMqRURL/COiLxsjPmgowNTSimlOrtOldSNUxS9Nv7QG//SQulKKaVUAjpV9zuAiLhFZDmwC3jVGPNhM/tcJiKLRWTx7t266plSSikFnTCpG2MsY8xYoB8wWURGN7PPP4wxE40xEwsLCw9/kEoppVQn1OmS+l7GmEpgEXB6B4eilFJKdQmdKqmLSKGI5MS/9wOnAJ93bFRKKaVU19CpBsoBxcCDIuLGueB4whjzYgfHpJRSSnUJnaqlboxZYYwZZ4w5yhgz2hjz246OqSO99dZbzJw5k4EDByIi/O53v2u0/YEHHmD69OkUFhaSmZnJhAkTeOSRRxrts2PHDr797W8zatQoPB4Pp5xyyuF8C0oppQ6jTpXUVWO1tbWMHDmS2267jd69ezfZ/vrrr3PWWWfx0ksvsWzZMs4//3wuvPBCHn/88fp9wuEweXl5/PSnP9WErpRS3ZyYFtYC7yomTpxoFi9e3NFhtLuSkhK+//3vc8MNN7S639e//nV8Ph8LFixosu2iiy5i69atvPbaa+0VplJKqXYmIkuMMROb26Yt9W6mqqqKgoKCjg5DKaVUB9Ck3o08/PDDfPDBB/zgBz/o6FCUUkp1AE3q3cRzzz3H7Nmzue+++xg/fnxHh6OUUqoDaFJvA9u2+e1vf8vQoUPx+/0MGDCAH//4xwQCgQ6N67HHHuO8887jH//4BxdeeGGHxqKUUqrjdLZ56p3aH//4R26//Xbmz5/PhAkTWLNmDRdffDHhcJh77rmnQ2K69957+dGPfsSDDz7Ieeed1yExKKWU6hy0pd4G7777LqeeeiqzZs2ipKSE0047jW9961t89NFH7XK+2tpali9fzvLly4lEIpSWlrJ8+XLWrVsHwNy5c7niiiuYN28e06ZNo7S0lNLSUsrLyxsdZ+8xysvLGx1TKdWzHKj2xSuvvMKUKVMoKCggNTWVIUOGcMMNNxCJROr30doXnZu21NvguOOO44477mDFihUcddRRrF+/npdeeolZs2a1y/kWL17M9OnT6x/fdddd3HXXXUybNo1FixYxb948LMvi8ssv5/LLL6/fb+/2vcaNG9fouHsfd/XpjEqpttlb++KCCy7g6quvbrI9KyuLq666itGjR5OZmcmyZcu47LLLCAQCzJ07F2hc++LJJ58kFosd7rehWqFJvQ3mzJlDKBRi/PjxiAixWIzZs2dz8803t8v5TjzxxFYT78aNGxM6jiZvpRTAjBkzmDFjBgDXXnttk+1TpkxhypQp9Y8HDhzIm2++2aiRUFJSwl/+8hcA3n77bbZu3dq+Qas20e73Nnjqqae4++67eeCBB1i6dClPPvkkL7/88gELwiilVFf0+eef8/LLLzfqMVSdm7bU22DOnDlcddVV9SPMx4wZQygU4pJLLuFXv/oVqamphzWeSMxme2WI2nAMj1vI9nvpnZWKiBzWOJRS3Uu/fv3YvXs3kUiEyy67jNtvv72jQ1IJ0qTeBoFAAJerceeG2+3GGHNYu7h3Vtfx0qc7eHbZNiKWzd4UHrMNA/PTOG9if447opBUr/uwxaSU6j7efvttgsEgy5Yt49prr6V379785je/6eiwVAI0qbfB2WefzR133MHQoUMZN24ca9as4YYbbuCMM87A7/e3+/ljls1fFq7j5ZWlgCEjxUO2z1u/3RjDjqo6bn9lLXe+vo5rzxjGsUML2z0upVT3MmjQIABGjRqF2+3mO9/5Dj//+c9JT0/v4MjUgWhSb4M777yTvLw85syZw/bt2ykqKuLMM89sMi2kPURiNr96biVLN1WQm+bF5WraxS4iZKR4IAXqohY3vfAZPzn5CGYc1afd41NKdU+2bWPbNtFotKNDUQnQpN4G6enp3H777Yf9/pIxhj+9uoalmyrIS/cmdM881evGJcKfX/uC/IwUjhmcfxgiVUp1ZrW1tfV1LhrWvsjIyGDo0KH88Y9/ZPjw4Rx55JGICIsXL+bnP/85Z511Fjk5OfXH2VvnomHtC4CxY8ce/jelGtGlV9soGInx0qc7eH75dipDUfrnpvHNif044YjCZlvPyfB5aTVX/Xs52WkeXG0cBBeMxEjzeXj0+19pt/iUUl3DokWLmh3Jvre2xa233spDDz3Epk2bcLlcDBw4sH5Oe1paWv3+LTUsuno+6SpaW3pVk3obVNdFmfP4J2woqyXd58HrFkJRm0jM5pQRvfj56cPaZeT5rS+v5o3Pd5Gb7juo11cEovz+3DFMGJib5MiUUkodbrqeepLMf3cjG8tqKchIwe9z43G7yEz1kJvu5bXVO3l3XVnSz1kVjLJozW6y/N4D79wCEcPTS7VAhFJKdXea1BNUF7V4ZVUp2c0kV5cIXrfw1JItST/vyu1VALgPoes8y+/low3lWHbX7pVRSinVOk3qCaoORbFsg8fd/Efm97nZVhlK+nlr6qLYh3iLxCWCiHN/XSmlVPelST1BGanORIGWWruRmE3eQd7zVkoppZJBk3qC0nwejhtaQFWw6VxNYwyhqM3ZY/sm/byZqd5mR7zvWruMt//2c174xTk8/oOprPq/B5rsE4vU8cnTf+OFX5zLa9ecwvAhJfz6179utI9lWdx6660MGzaMlJQUioqKmD17dtLfh1JKqfan89Tb4NLjB7FsSyVlgQg5fi9ulxCJ2VTXxRhZnMVJI4qSfs5RfbIAp4eg4X31WDhEdvEgBk46lWVPzGvyOtu2ePsvPyNaF2DEN+cw6ehRXDqpkD179jTa7+KLL+a9997jtttuY+zYsdTU1LB+/fqkvw+llFLtT1vqbVCc7eeuC8Zz8vAiaupiVAQiWLbhgskD+N9zRvOH39/C0KFD8fv9DBgwgB//+McEAoH61z/wwANMnz6dwsJCMjMzmTBhAo888kir58xJ83HisEKqQo17CPqMmcpR51zBgEmn4PI2Hby38f2XKd/8OSf86I/kD5vM92ccw8SJEzn99NPr93njjTd49NFHee655zj33HMZPHgwRx99NOecc84hflJKKeUwxhC1bB2oe5hoS72Nemenct0ZI/jJV48kFLHISPHgcbvqK83Nnz+fCRMmsGbNGi6++GLC4TD33HMPAK+//jpnnXUWt912G7m5uTzzzDNceOGFeDwezjvvvBbPOXNsXxZ+vgvbmISLz2xdtoj8kpGsevVxtn/8X775lzROPvlkbr31VvLznepyCxYsYPDgwbz22mvMnDmTcDjMlClTuOOOOxgwYMChf1hKqR7DGMO2yhAb9gRYU1rDiq1VbNhTSyhigzjbXSJkp3kZ0TuLo/plM6QogyGFGc3OKlIHR5P6QUrxuEnx7FsF7d133+XUU09l1qxZAJSUlPCtb32LhQsX1u/z8MMPNzrGNddcw1tvvcUTTzzRalIf3juTE4cV8cbnuxIuE1u7exuBPTuIGWHevQ8yKMfDT37yE2bOnMnbb7+NiPDll1+yefNmHn74Yf75z3/i8/n45S9/yUknncTKlSsP+1KySqmuJxCO8dba3Tz+8RZ2VNchOLcLU70uUrxu0nxuRKS+2lzUMizeVM4H68vwul1Yts2kQXnMGt+Po/vlaOXLQ6RJPUmOO+447rjjDlasWMFRRx3F+vXreemll+qTfEuqqqoYMWJEq/uICD87dRhVwQhLN1eSm9784LmGbMvCGMNf//kg5x/nHP/+++9n0qRJLFu2jPHjx2NZFuFwmAcffJCRI0cC8Pjjj1NcXMxLL73Eueee24ZPQCnVk5RW1fHE4i28sqqUqGWT4nGR4/e02OjY+7zPI/g8++782sbw8cZyPt5QQX6Gj/83sT9njOndqNGkEqdJPUnmzJlDKBRi/PjxiAixWIzZs2dz8803t/iahx9+mA8++IA///nPBzy+z+Pid+eM4c7Xv+C/q0qxDWSmehr9chhjCEQsIjGblOwCMn1Sn9DBWUYRYNOmTYwfP54+ffogIgwfPrx+n6KiIgoKCti0adPBfAxKqW7Otg0vrtjO399cT8y2yUr1kJl68KnEJUJumjMdOBCOcdcb63h22Tau/9oIjuyVmaywewwdKJckTz31FHfffTcPPPAAS5cu5cknn+Tll1/mhhtuaHb/5557jtmzZ3Pfffcxfvz4hM7hdbuYc+ow5l8ymfMnDyBmG6pCUYwN4ZhNZTBKr6xUfnbqMGZ/cwYVe3ZRXV1d//o1a9YAzq0BgOOPPx5jDF988UX9PmVlZezZs6d+H6WU2mtHVYg5T37CXxauI9XrIi/d12JBroPh97nJz/Cxq6aO/3l0Kfe/s55wzEra8XsCXdAlSQYMGMCVV17JtddeW//cv/71Ly655BJqamoa3Z9+7LHHuOiii7j33nu58MILD+p8tbW1fPb5GnZVh7nkW7P46oyv892LL2ZwcQFHHHEEO3bsYOTIkZx44oncfPPNBINBrrzyStLT03njjTcQEYLBIKNHj6ZPnz7MmzcPr9fLtddey/r16/nkk0/0nrpSqt7HG8u56flVWLZNtj+xsT2HImbbVAdjDMhP5w+zxpCfkdKu5+tKdEGXwyAQCOByNf443W43xphGyxHee++9XHTRRTz44IMHndABFi9ezDGTJvL1k49l965SHp1/L6dPm1pfOKa4uJiFCxdSWVnJ5MmTOeecczj66KN5+umn638Z09LSeO2118jLy+PEE0/k5JNPJiMjg9dee00TulKq3ptrdnHDM5/icQk5ab52T+gAHpeLvAwfWyqC/PixZZRW1bX7ObsDbaknyaWXXsqLL77I3//+d8aNG8eaNWu44oorGDVqFC+88AIAc+fO5ZprruGuu+5i5syZ9a/1+Xzk5eV1VOhKKdWi99bt4aYXVpHuc5Pi7ZjBa1WhKLlpPu781jgKtMWu66kfDoFAgJtuuokFCxawfft2ioqKOPPMM/nd735Xn7BLSkqaHYA2bdo0Fi1adJgjVkqp1q3cVsXPnvyEVK+L1A5K6HtVBqMUZ6fyt29PwO/r2SPjNan3MMFIjMUbKyiPV7xLT3Ezqk82/fPSOjo0pVQXEYpYXDL/I2rqYvULWnW08kCEmWP7cuX0oR0dSodqLal3jp9UN2PZhqWbK3j3iz3UhmMU5/g5ZUQRA/PT2/W8W8qDPLd8Gy+vLCVmGSxjY8y+tdhH98nmGxP78ZVB+VrgQSnVqn++s56y2gh5GZ1n9clsv5fnlm9j2pGFjO6b3dHhdEraUk+ytTtr+PXzqyivjWBwFmHZW/N4Ykke188YQUZK8q+lFq7eye2vrMEyhsxUD979ppkYY6iuixGzDMcOzee6M0Z0eHeaUqpzWrG1kjlPflK/cFVnUlMXI9vv5b7vTeqx3fA6+v0w2bAnwJwnllMdipCb7iUv3Ue23/k3N83LxxvKufapFUmfd7lw9U5ufflzUn3OvNH9Ezo41ZycWLy8u66MXz+3kphlJzUOpVTXZ9uG219ZQ4rb1ekSOjhFt3bXhHlyyZaODqVT0qSeRHe9sY6IZZOZ2nRxAhEhL93L2p01LFy9K2nn3FwW5PZX1pCe6k6orOLeOJZuruRf72vVOKVUY8u3VrKrJtxp7qM3JzPVw4IlW7UwTTM0qSfJtsoQK7ZWktPKakMiQqrXxeMfbyFZtz2eXb4Ny5g21UkWEbL8Hp5eto26qP5SKKX2WbBkK0Lnvi3r87ioi1p8uL68o0PpdDSpJ8m6XbW4RA5YlCHN52ZbZYi66KF3fQfCMV5ZVUrWQVxRe90uIjGbd77YfchxKKW6h13VdXy8sYKsLrAUqsctPP6xdsHvT5N6ktgJtrxFBBGwktBS/2hjOTHLPujayx638Pwn2w85DqVU9/Da6p0QX/e8s8tI8bBuVw1byoMdHUqnokk9SfrnpmEMB+xWr4ta5Ph9pCdh1GZ5bYSYffAXBykeF7tqwocch1Kqe1i8qQKvp2ukBREBEdburOnoUDqVhPptRcQFuIwxsQbPnQaMBhYaY5a1U3xdxpDCdAbmp7GtMtjsQLm9AmGLC04Y2Go3fW04xttrd7N+TwDLNhRnpzLtyEKKshrXY48e4uh1EYhanfvemVLq8DDG8MXOWvzerpHUwYl51fZqTh7Rq6ND6TQSvRn7byAMfBdARC4H/hbfFhWRrxljXmuH+LoMEeGKE4dw3YJPqYtazc4BrwxGKcxM4bRRvZs9RiAc4763N/CfVaXE7H0J2xi49+0NTCrJ5YoTh9Av16kMl5nqPaRuMss2rQ7sU0r1HLtqwkQsm/SUrvM3IdXrYuW2qo4Oo1NJ9JLsK8BLDR5fA/wTyAaeBn6ZjGBEpL+IvCEiq0VklYhclYzjHi7jBuRy49dHELMM5YEIgXCMUNSiKhSlIhild3Yqf/p/Y8luJpFW10W5+vHlvLBiO2nx+eZ7v/IzfOSkefh4Yzn/8+gyvtxdC8CoPlmIHLjLvyXBiMWUIfmH9J6VUt3D+t2BLnc/NtXrZlN58JB7LbuTRFvqRcA2ABEZCgwC/mqMqRGRB4BHkxRPDJhjjJwuQIMAACAASURBVFkqIpnAEhF51RjzWZKO3+6OHVrII7NzWLh6J69/votQxKJXVipfP7oPk0pymx3UZozhty98xqayAHnpza9T7BIhL91HdV2U6xas4P6LJlFSkM6w3pms313bapd/c/ZeCHztqOKDe6NKqW6lLBCur37ZVeztqawORXW99bhEk3o1sLdJdyKwxxizIv7YApKy+LYxZgewI/59jYisBvoCXSapg1Of+Jzx/ThnfL+E9v9iVy2fbq0kN635hN5QVqqX8kCE11fv4uxxffl/E/vz2xc+wxjTpjWOq0IxjuqXU9+Vr5Tq2SIxOymzcg43FxDRlnq9RHtb3gOuE5Ezgatp3BU/FNia7MBEpAQYB3zYzLbLRGSxiCzevbvrz7N+Ztk2DCSclP1eN08sdgrYTBmcz6SSPMoD0YS74QPhGD6Pix+fdMQhRK2U6k4s23TykjMt62o9DO0p0aT+cyAPeB6nVX5Tg23nAe8nMygRyQAWAFcbY6r3326M+YcxZqIxZmJhYWEyT90hPtpQ3qZFXlK9LspqI+yuCeNxu/jVmSMZ0zeb8kC01XtLxhgqg1FEhN+fM4YB+dpKV0o5fB5Xl5ifvj8D+A6yVkd3lFAmMcZ8ARwpIvnGmLL9Nl8FlCYrIBHx4iT0R4wxTyfruJ1ZXdQirQ3z1kUEl4v6qnR+n5v/nTWGB97dyAufbKemzsLnEVLi800t2xAIW4gIo/pkcfUpR7T7MrBKqa4lxePC3cVyujEG2xhSdMXJem26vGkmoWOM+dQYk5Q+cHH6n+8DVhtj/pSMY3YFaT73AbuPIjGbHZV1rCmt4bPt1WwpD/H66p1UBiMApHjcXD5tCE9ePoWffvUI+uem4RLBsiEjxcu54/ty3/cmMve8sZrQO9Bbb73FzJkzGTjQqVXwu9/9rsk+wWCQ6667jpKSEnw+H3379uXXv/51/fZFixbFKxM2/vrnP/95ON+K6mb65abhdnWtFm/MNqT5PAdVKru7avGTEJEb23AcY4y5OQnxHAtcCHwqIsvjz11vjHmpldd0CtV1UV7/bCf/9+kOqkNRfB4XA/PS4iPUszhmcF6Li64cf0QhL67YTp7H12SbZRu2lAepCjl1f1wuZ2lEj0t49KNNPL54C2eP68v3jxuEx+0izefh9NHFnD5aR7V3RrW1tYwcOZILLriAq6++usl2y7L42te+RnV1Nffccw/Dhg1jz5497Nmzp8m+S5cupbh43885Ozu7XWNX3duggnRitt3mQbcdqS5qMapPdpeJ93Bo7fLmpjYcxwCHnNSNMe8AXe6ns6kswM+e/ISqUBSAHVUhIlHDhxvK8bldFGf7SU9x85NTjuTE4UVNXn/W0X14ccX2Jr9Mlm1Yt6uWuqiNxy31H4yNoXd2KvkZKVi2YcGSreyuCfPLGSNwdcL1j9U+M2bMYMaMGQBce+21TbY/9NBDLFmyhHXr1lFU5PxfKSkpafZYhYWF9O7dfCEjpdoqPcVDQUYKoUisy3RnR2KGo/vldHQYnUqLfS3GGFcbvrrG/4B2EI5ZXLtgBYGwRZrPw7aKEJYNPq+LVI8L20BlKAIYbnlpNW+uabqWeklBOlOHFDQZwb61ItQkoUctG5/HRU6a06p3u5z10d9cu5tnlm07DO9YtacFCxYwefJk5s2bx4ABAxg8eDCzZ8+mrKzJnS+OO+44ioqKmDp1Kg8++GDSlvNVPdfIPlmEkrCC5OHicQtH9Mrs6DA6la51A6UTeu/LMioCUbL8HrZXhrABj8tJwiKCx+VMIQMhPcXNvNe/aHaE+nVnDGdM32zKAhHCMYuoZagMResTujGGaHxFtsGF6bgbtMhFhIwUN499vJmYztfs0r788kveeecdlixZwhNPPMG9997Lhx9+yMyZM+uTdnFxMXfffTdPPfUUL730EqeddhqzZ8/mxhvbcsdMqaaOP6KQrnJtuPdv3cg+WR0cSeeiowsO0Wuf7cTlcgay1dTF8LgF2xBP6k7CNRiqQk6Z2MpglI83lDN1aEGj46R63dw66yieWLyFBUu2srUySMyyMfbegVCQl+6jd3Yq3mamb6R63VQEIyzdXMnkQXmH6d2rZLMsC2MMjz32GDk5Trfi/fffz6RJk1i2bBnjx49n2LBhDBs2rP41EydOxLIs/vSnP3HjjTfi9Xad2t2qc/nK4DxSvS4iMadHsDOrqbM4fXTvNk0H7gkS/qnFC74sE5GgiFj7f7VnkJ1ZMGLhdgnBiEXMtgmEYwQjMQKRWPw5g7BvvfWYZdjcwvq/Po+L73xlIE9cPoURvTMpykyhT04qA/L8jOyTRf+8tGYT+l4xy+gyhF1cnz59KC4urk/oAKNGjQJg06ZNLb5u6tSpBAIBukMxJtVxUjxuzh7Xl9pw7MA7dyBjDAbDWWP7dHQonU5CSV1Evgv8BfgYp/jMA8DDOOVjvwR+214BdnaDCtIJRSy2VgTjCXzfFCPbGOqiTmLfO2fcYPAcYDKo1+0iy+8lL91HUVYquek+PAkMgHOJEIp27l9G1brjjz+e0tJSqqv31Vxas2YN0PKAOYBly5bh9/spKChocR+lEjFjTDEg9Q2Rzqg2HGNoUQZDCjM6OpROJ9GW+tXA/wJXxB//zRjzPWAwEAKajuLpIb52VDFltRFilh0fzLbvF2HvSPaYZfC63RhjcLuEUX32TT2ybMOq7VV8sL6MT7ZUUhd1Oj1y03zE2lj60GDITWs6LU51HrW1tSxfvpzly5cTiUQoLS1l+fLlrFu3DoAf/vCH+P1+vve977Fy5Uo++ugjZs+ezbRp0xg7diwAc+fOZcGCBXz++eesWbOGO++8k5tvvpkrr7wSn09//urQ9MpKZfqwQiqD0Y4OpVm2MURihoumDuroUDqlRG9GHAG8BdjxLx+AMaZCRG4BbgH+2i4RdnLZfm980JozKG5vdzvsWwnN4xLKAxGM8TIwP53hvTOJWTbPLNvGE4u3UFMXQwQw4HG7+PpRxUwdUsAH6xO/VjLG4BJhcokupdqZLV68mOnTp9c/vuuuu7jrrruYNm0aixYtori4mIULF/LTn/6UyZMnk5ubyxlnnMFtt9227yIxFuP6669ny5YteL1ehg4dyrx587j00ks76m2pbuaH04fy8cZygpG2Vbs8HCqDUaYPL9KxQy2QRKbBiMgu4AJjzGsishX4uTHm0fi2GcCTxpgOKVM2ceJEs3jx4o44NQAfrC/jpudWEorZ7K6uoy5m148eFXFqErtdgmUbhhdncef54+idncqvn1/JxxsryEhxk9pgTmjUsqkKRumbm8ae2jp8Hnd9131rqkJRjuyVybzzx7XXW1VK9SDvf1nGjc+tJDfd22lqwgcjMbxuF/dfNJlsf88dECoiS4wxE5vblmj3+6c4q7EBvA1cLyJTRGQSTpGazw85yi5MXEJxdiqj+mYztCiDvHQvPo+LFI/gcjn3pjJTPdz17fEMyE/j/nc3sHhjBfnp3kYJHZz76QWZKeyoqiMz1UttXeyAJWTDUQvbhtnHD27Pt6mU6kGmDMnnxGGFVLRhBcj2ZNmGUMTmmtOG9+iEfiCJdr//A+f+OcCvgNeAd+KPa4CzkxxXlzG0KAPbOKVbnUIwPvLSfVi2M0jOAHURmxOOLKBvjp9AOMYLn2wn2+9ptbRhbpqH8kCEM0b35uWVpfg8LjJS3I1eYxtDdSiKQbh+xnBG99UyoUqp5LnqlCPZWBZkc3mQ3LSOS6S27awwef7k/nxlsN5ibE2iq7Q93uD7dSIyCpgCpAHvGWOaFqbuIQoyUjh2SD7vrNtDXrozSClq2Vi2qV/KMBKzOXd8P8Dpro9ZBk9q650kIoIxTunG35w1ioc+2MSG3bUYA5YxuJ1J8EwcmMeFUwYyolgLMHRHoYjFtsoQUcvG63bRN8ePv5Pd41TdV0aKh9tmHcVVjy1jZ3UduemHfyCmZRsqglHOPKqYS47VwXEHclCz9o0xAZzWugJ+dNIRrNtVy4ayAMFwjGDERoT6xP7tYwbUt6L31IaJ2YlVffO6ha0VQX4wbQhThxawblcta0prCMecwStj++fSOzu1Pd+a6gB7asP8Z+UOXlm1k9KqOrxuZyAmGKKWoVdWKqeN6sXpo4spzEzp6HBVN5eb7mPe+eP42VOfsKUsSG6697AtoBK1bKpCMWaN78vl04bowi0JSCipi8iAA+1jjNl86OF0TbnpPmafMJg5T3xCbcTCBRgjpHndZPg9vPH5bk4e0YtJJXl43S4kwTVrDOBrsLLb0KIMhhbpvMzuqi5q8eB7G3l62TaMMfh9bvL2+wNqjKEmHOVfH2zikQ83M3NsXy4+tqTJ2Aylkik33cefzxvLbf/5nA/Wl5O+3wDfZDPG1K9Mefm0wcwa308TeoISbalvpOEE7Ob12L8q4ZjF3FfX0js7tX75QkHqi8yEIha/e/EzHv/BFEYUZ+F2kdDyhrYNk0tyD8dbUB1sa0WQ65/+lNLqugbTJJsSEfxeN36vG8s2PLN0K++u28P/njuG/nlphzlq1ZNkpnr57czRvLlmN3NfW0t5IEpuWutjgw5G1LKpDjnFZX5xxggG5Ov/67ZINKlfQtOkng98DWcAXTLWUu+yPlhfTiBskZvuDCTZv5Sr3+emIhDl3XV7OGl4EYWZqWyvCtVPZ2tuukgk5qzOdsKRTZdqVd3L1oogVz22nGA4Vj8uIxFul5CX4aOsNsxVjy1j3vnjNLGrdiUinDi8iKP65zD31TV8uKEcQchMdeNppYR1IkJRi1DYwu0Wvn/8IGaN73fIx+yJEh0oN7+FTX8SkX+xb2R8j7R6R/UBSyoaDG+u3cXrq3expSJIaVUdArjdQkG8HOze1lnUchaHuerkI3RQVDdXF7W4/ulPCYZjZB/k6OLsNC9VwSjXP/Mp9353onbFq3aXl+7j5rPHsG5XLS98sp1XP9tJzI7h87jwe90t9jQ15Kw8aQhGYhgDOWk+vvuVgZwyovdB/y6o5KzS9jBOLfgbknCsLsnjclZia00wYvHyp6XkZfjolZVCus/DprIAlmXYUR2mMhSjf66fiGUjIlwxbQhnHq2LFXR3D72/kR1VdeRnHNqo4uw0Lzur65j/3kYunzYkOcEpdQBDizL4yVePZPYJg1m4ehevrd7Jul21jRawcrnAJU5XrzFgG2cQcMw2ZKd6mTK4gDOPLmZs/9yELgZU65KR1ItwFnnpscYNyOGpJVtb3B6zDbtrwvTL9dfXZs/yexjZJ4uKYJQ9NXWEYxY14RiXHjeI00f3piizR3+kPUJZbZinl25LWqsk2+/lmWXb+MaEfhRk6Kh4dfhkpHg4a2wfzhrbB9s2bK8KsX53gPV7aqkORamL2rhdQqrXTVFmCkOKMhhckE6OrlWRdImOfj+hmad9wGjgFzhV5nqscf1zKcxMoaw2Qpa/6Ue6oyKIW6TJH1q3SyjI8FGQ4RSrqQ3HmDm2r1ZL6iFeWVWKbUxCK/Alwu0SjDG8sqqUbx8zMCnHVKqtXC6hX24a/XLTOOHIwo4Op8dJdBTCIuCN/b7+C/wJ+Ix9q7f1SC6XcPPM0fh9LsoCESIxG2MMkZhNWW2EQMSmX14qrQ0Sdf4gw4qtlYcvcNWhXv1sJ/4k3//2e938d9XOpB5TKdV1JNr9Pr2Z5+qATcaY0iTG02WVFKRzz4UTeW75dl74ZDt7aiNkpHg4b1J/Fq3dRU3dgdc5N8YQiliHIVrV0eqiTqW4nCQPCEr1uthRGaIuaumAOaV6oERHv7/Z3oF0BwUZKVx63CAuPW4QVrwWPMCGPQGWbq44YKtMRA55wJTqGnZW1+EWSfrqVyKC2y3sqKpjUEGHLJyolOpAOgmwnTQcxfn1o53BI60JRy3SUzwc3S+nvUNTnUDUslu9HXMoBCFqJVaKWCnVvbTYUheRDRy4ilw9Y0yPnqvemokDc+mXl8a2iua7Wy3bUBO2uHL6IC220EP43O7Ef7nazDQpgKSU6hla+81/c78vD9AXp2Tsh/F/++KUh13UjjF2eR63i1vPPYreWamUByIEws4a6THLpiIQpToU5ZsT+nH2WJ2X3lP0yk7Bss0Bixa1lTGGmG3ok6NTIpXqiVpsqRtjLtr7vYhcBhwDTDXGbG3wfH/gFeD9doyxWyjMTOHu70zgrS928+TiLWyrDOFxuTj+iALOGd+XkcVZumBBD5LicdMvN409tXWk+ZJRLsJRF7Xpl+snxaOD5JTqiRL9a3INcH3DhA5gjNkiIjcBvwfuTXJs3YYxhi931/L88u18tqMGj9vFt48ZyOmje2uRkB7s9NG9+efb60lm/Y1Q1OL00cXJO6BSqktJ9MZbP5wpbM0J43TDq/0YY7Btm7++sY4fPrKU/6wqZXdNHdsrgzz03kYuvO9D3v5id0eHqTrIV0f0wiVCLEmD2mKWjUuEr47olZTjKaW6nkRb6p8B14jIq8aY+uQuIn6cVvxn7RFcVxSJ2fx3VSlPLdnKlooQgUiMcNSif66ftJR9H3eazxnxfsv/rWbueSmMKM7qwKhVR8hN93H+pP488uHmpExlrKqLccHkAeS2YaU3pVT3kmhL/efAZGCziMwXkT+IyHxgEzAJJ7H3eHVRi188vYI/v/YF5cEweekeqkNRQhGLdbsDVIcaF6BJ8boxGP790eYOilh1tAuOGciAvDQqQ9FDOk5lMEq/HD8XHDMgSZEppbqihJK6MeZ1YBzwKnA88KP4v/8FjjbGLGy3CLuQRz/cxCdbK8nP8JLm8xAIW2DA53HhEthUFiC233z1bL+XD9eXEYwcuOKc6n58Hhe3nDOGrFQvlcEopo2j4Y0xVAajZKZ6+P25Y3SAnFI9XMKTWY0xq40x3zbGDDHGpMX//Y4x5vP2DLCrCMcsnl2+naxUb/0odsvetyCrSwTbQEUg0uh1LhFExLkAUD1S7+xU7jx/HH1z/JQHognfY49ZNuWBKH1y/Nz5rXEUZ/vbOVKlVGenFSqSZHtlHVHLxufZ95F63AINZqmJ0KQGvBVvuWemJm9ak+p6emencvd3JnDhlIEEIlZ9PYP957HbxhCMxCivjRAIW3z7mAH8/TsTNKErpYDWK8rdD9xsjNkQ/741xhhzaXJD61oE2L/nNN3nhvgiLSae3aMeG2OoLxFaFYxy0oiidll8Y0t5kI82lFNdFyUr1cvkQXn0z0tL+nlUcvg8Lr47pYSZR/fltdWl/GfVTjaXBREBlzj/v2wDA/LTOH1UL04Z0Ttpa7ErpbqH1pqH04F58e9PovWSse1X8bKL6JfrJ83nJhy1SPG6sWzDxj1BYpZNzIa9H1EgbPHFrloGF6YTjlp4PS6+NTm5g5u2VgT503/XsnJ7FZZtkHhCuOctYXSfbH566pH0y9Xk3lllp3mZNaE/syb0J2rZ7KyuIxJzeoF6ZaVqCVilVItaqyg3qMH3JYclmi5sc3mQnDQvH6wvx+t21kaPxGxSPC7ctiEcMyDOQi+1dTHWltYwuDCDW2aOYmB+y6tpxSybjzaW884XewhGLPrl+jl1ZG8G5DeflDeXBfnxY8sIRSxy07yNqtQZY1i1vZr/eXQZd54/rsVjqM7D63bpBZhSKmHS1tG2nc3EiRPN4sWLOzSGBUu2cM9b66kKRigLROItc4fP48ItgmDISfdhWQYwuFzCP787iVF9s1s87uod1fz6+ZVUhWJgnNfsvQc/ZUgB150+HL9vX7e9MYZL5y9mR1Wo1W7ZqmCU4mw/9100MaHStLZt+GxHNWWBCB6XMDA/TRONUkp1EBFZYoyZ2Ny2hEZnichUIM8Y82L8cT7wV2A0Tu33a40xPXL49sptVdzz1nqqg1Gq6yxSPC5cliFiOck3ErPJ9nsYUpjZaBDdntoIy7dUtpjU1++u5ZonPwGB3P0StDGG99bt4cbnVvK/546pX9nt021VbKsKkeNv/cea5fewrTLEym3VjOnX8kVF1LJ5fvk2nli8lapQtH7Mn21gVJ8sLpwykHEDcg/0ESmllDpMEr05dyswocHj24EZwFrgCuD6JMfVZTyxeAvhqEVVXQyPW3C7XLhdgsS72l3iLLIRtQx1UYuy2jB7asOEo1arc9P/8dZ6orZNRkrTBC0i5KV7+WRrJR9vrKh//tXPdmKMOWDrW0QwGP77WWmL+9RFLX75zKfc/eZ66mIWOWlesuNfOWkeVpdWc+1TK3h22bYEPiWllFKHQ6JJfQSwGEBEvMA3gJ8YY2YBvwQuaJ/wOr/lmysJRW1oMHtNRBrOZMOybdbtqmFNaQ1bK0JsrQixs7qOZ5dvZ+3OmibHLK2qY+nmCrL9LXehiwhul/Dkki31z+2srkt4EJXX7WJXdbjF7XNfXcuyzZXkp3vx7zcyX0TI9nvJ9Hu46411fLShPKFzKqWUal+JJvUMoDr+/WQgHXgx/ngp0GNrU7pcQjhm4WqQxfdOTzfGYAxY8UFzHpfgdbvwuASPS7Btw5wnlrOpLNDomJvKAnhcgusALe70FA9fNLgo8HvdCa/PbRtDqrf5H//2yhBvrNlFbrq31Va/1+3C53Fx3zvr21wJTSmlVPIlmtS3AUfHvz8DWGmM2RV/nAsEkx1YVzFlSD7GNJ6jLiKkeN1gnIlsxjjJH3EGulk2DMhPJzvNSzhmM/+9jU2Om1iKNDTsE5g6tKB+IN2BWLbh2KEFzW576dMdYDjgRQVARoqbDXsCfLm79oD77qkN8+H6Mt7+YjfLt1QSiSVndTKllFKORMuY/Rv4vYiciHMv/dcNto0HvkhyXF3GNyb044VPtrO7JuzcS48/7xbwuoWI5ZSKdcUTus/jok+2n6z4YLYcv5f31pXVF4gBGFSYjm0bbGNaTay1dRZj++fUPz7hiEL+svCL+jnNLdm7/fgjCpvdvnRzBSkttOL3t7clv3ZnLUOLMpvdZ+3OGh79cDPvry9zejTi1x0pXjfnjOvLOeP71r93pZRSBy/RlvpNwB+AFJxBc3MbbDsaeDK5YXUdQwozuHnmKHweF+GoRdSyiVo2MQP+FA8+j4ssv4cjijI4slcmw3tn1id0cFrwLpczzWyvosxUJg3KozLY8spdxjhJ/xsT+tU/5/e5ufLEodTUOcu9VgWjfLmrltU7qlm7s4Zd1XUEwzFq6mJceeLQRtPhGorE7IRa6XvZxhkp35w31+zix/9exvtflpGd6iHbv2/AnQj864NN/M8jS9lVU9fs65VSSiUu0VXaLGPMLcaYrxtjfmuMiTXYdrYxZm5rr+/upg/vxf/9+HgmDMwlxePC73VTmOGjMCOF/HQf/XPTyEj1NHsP2zYGyzZNRrn/4IQh+H1uqkJNV+6yjaEsEOUrg/MZv9+UsjPGFPOdrwxgzc5avtxTS004RtRyStVurQixZmct04cXcsaY4hbfT2FmCpEEFxUB8LiEnLSma3iv3FbF71/6HL/PRW6617kF0UCKx0VBho9dNWGue+pT6qI9clakUkolTZtWERGRo4ATgHzgHmNMqYgMBXYaY5oO4z4I8TrzZwK7jDGjk3HMw2FAXhr/vmwKO6pCrN5RTTAc490vy/jPylJKd1Tj87goyEihKDOlUdd4TSjG0f1yyE1vnBT756Xx5/PGcdPzqyitDmHbTv1v2zj/nj6qNz86eWiTRFkRiPB/n5bSN8dPzDZUBCJYxuAWF7npPjJSPLyxZjfTh+1hypDm76nPGFPM0k0VzW7bX8yycbuEiQObzle/7531uFwccDnQnDQvWyuDvPflHk4a3iuh8yqllGoq0eIzKcDDwLnEB3YDLwClwG0489WvS1JM83EK2zyUpOMdVsXZfsprI1z4xIfUhmOAMwI+HLXZXhmiPBDhyF4ZpHrd1EUtbAMXHVvS7LEGFaQz/+JJrNhaxYfrywhELPrmpHLi8CKKMlObfc2zy7dREYiQn+FcJPTKSmlmL8Nf31jHVwbnNzu6/ZhB+aSneAhGYqT5Wv8vUhmKcdbRfUjfr6dhS3mQVdurmxTOaYnP7eKxj7YwfVhRQlXulFJKNZXoPfVbgFOAC4FeNFpQlJeB05IVkDHmLaBLTnwORSy+3FXLpQ9+TG3EItXrJtXrIT3Fjcvl1IMPRSzWlNawuyaMbcNNZ41kVJ+Wq7qJCEf3z+GyaUO45NhBIMLVjy3n1Llvcs5d7/K3N9axtcKZfBC1bJ5dtu2Ay7im+dzsqYnw6baqZrf7PC5++bWRhKNOt31zjDFUBKMUZ6fyvaklTbavjB870QSdHh9F71wIKaWUOhiJdr9/C7jBGPOoiOzfl7oBKElqVF3Mruo67n93A4vW7KYiGGFXdRiPW+pHr7tESPUI4ZghZjsV5qqCUUb1ySLd52HJpgpe/GQ7WytD5Pi9zDiqmKlD8ht1W28uCzLnyeVUhqKk+9zkpHmJWYZnl2/jxRU7+NWZIxhSmEFdzD5g61hEsIxhU1mQo/rlNLvPhIG53HLOaH774mdUBCJ4PS5SPC6MgUBdjHDMole2n0uPG4SvmYI3oaiF3YYZa3uL6dRFbVrohFBKKXUAiSb1fGB1C9tcOKPiDxsRuQy4DGDAgI6te7Oruo4rH11KVTBKdpqX7ZUhAGK2wY5Y9SPM66I2Nk4Xh8sl5KR7Wbuzlgvv/5CMFI8zkM7jZltFkE+2VtEnJ5XbvnEURZmphGMW1y5YQSBskd/g3rvPI+R5fNRFLW5+cTW3nJP4EIRE2s8TS/J4/LIpvPXFbp5dto1d1XVUh6JOL4THRU1dlD/853NcIswYU8x3jhlYv5BMms+Dqw0rhJr4gMG0FkbkK6WUOrBE/+xuAKa0sG0ysCY54STGGPP/2Tvv8DjKa/9/3pnZ2apeLTe5V2xcMDbdEGowJYQSCISeQkluckNJyC8kkOSmQZIbEhxICITk0kILBAjNNh0b27jjbkuyetnV9inv749ZrbWWZAvj7vk8jx5bM7OjoZfpIQAAIABJREFUo5XlM+95z/l+/ySlnC6lnF5W1vus9b7igbc2Ek4YFId01EyJXQjnjbVxxsNSppPQFeFowgOoQiGSNEgaNh1xgwKfB7+uku/3UBz00BBO8r2nV2Dbkvc3ttEWS+eMwnXH51ExbZu31jYT8KikzJ13kctMBWFYad+Wr134dZXTJ1Ry36VTmVZdjERQkeelssBHvt9Dgd+Dz6PwzJI6bvjHR7REHenZqUOcCkB/Fe46kyYTBxb02Jt3cXFxcek//U3qjwC3CSEuA7qWilIIMRv4L+AveyO4A51YyuStdS05Gu2hzH62xFkNG5azAu2SjbWl82c4kaYtlkbXFGwpCSdzZ9ILAx5q2uIsre3gPysbdrnqzfNpvLamiQumDSSa3HlSj6ctKgu8TKjK7/f3+uRHNbyxppGSkKfHfLtHdUbTmjvT3Pn8SqSUlOf7mDGsOGf+vi+klJi25MLpg3Z5rYuLi4tL3/Q3qf8CeBH4G9ub2N4GXgNellL+754KSAjxf8B7wBghRK0Q4po9de89TThhZN3YuigNedEyn3cd7ZKK7VJwVYSgLWaQMpxVvMTpjt8RiWT+J82EE0b2nraUhBMGLZ0pWqPprNSqpgjiaYuzJ1VRGvLSkeg9mSYNi5Rpc/Mpo/rdxGZaNo8vrCHPq+1UlKYw4GjRr2lwphuvOW44mqrs1I1OSkl7zGD8gHxmVBf3Kx4XFxcXl97pV60z45V+iRDiPpxO93KgFSehz9+TAUkpv7Qn77c3yfd7sG1HR70rsQe9KgMK/GwLJzAynurdhdxVReDXVUzLxrSdhOk00/W8v6oIYmmTynwf65o6ScXS1HUkMg1oXTcVFPg1yvK8FAd0CgM69158JLc/vYxtHUmEkOiaimVLDMvGoyr8v7PHM21o/xPox7UdxNOO/erOEMLZfnh5RQPjBuQzrDTIz75wBHc8u4LWaJo8n5ad0ZdSEk9bJA2bcQPyueu8iVlfeBcXFxeX3eNTbWBKKd8C3tpLsRx0hLwax44s4e11LRSHtjewDSj0EfSqbGmLY1k2SdMpv/s8StYaNbtKlmBJSagX7XPLkowoDTF2QB4vLt9GR9xAFQKPKuiqA8jMyj2asrjljDEAVBb4ePArR7F4q9NV3xBJEtQ1ThpTzsnjynv1aN8ZLdF0v13YdE2hLtMsCDBpUCEPXDGd55bW8a+P60kaTgXBkjCw0M/FRw3mpDFluxSocXFxcXHZNZ+5K0kIcT7OuNu0PRDPQcd1Jwzn49owbbE0BX4PquIYt5iWZNyAfK6YWc3/vLSatng6W0KHTMk+4+KmKGDv4K5mWjZCEZw6oYKgrpJI29gSNDV3Se88HEhMy87pjFcVwVHVxRy1B0rauqpAP0v1tpR4dzCTqcj3cf0JI7hiVjV1HQnSpk2eT2Ngod8VmnFxcXHZg+w0qQsh8oEzcPzSNwDPZ0rxCCEuwHFrmwhs3rthHrgMKPDz+0un8MCCjbyzoRUFJ1GfMLqMa48fztrGTvJ8Gl5NoSGSAuysJJ9HUxyZVSFyusSThkUsZXHt8cMoDXlZsLaZ0jwv7bE08bQFwpGK7bJ81VSFynwfL69o4POTqvoVd0c8zX9WNfLyino6kyalIS/nHVnFCaPLezTCjRuQD3LXrnHgjPLNGl7S6zmfR2VEWahf8bm4uLi4fHr6TOpCiPE4anGD2N7z9a4Q4lzgMeBkoB64EXhgL8d5QDOgwM//mzOBzqRBOGFQGNCzJW7DchrhyvO9FAV12uNpkoaNpkBhQMe0bLa2JUiZNpGEgS2dTvZvnzqCMyZWAtAQTiClZFR5iGjKpCWaJp3RXC8J6pm9fZutbf2ztV9eG+b7zzoGKj6PiqYIatrj/PrVtTz83hZ+eeFkBhb6s9dXFviYMqSIJVs7KAr2va+eNm00RXDS2PI+r0mkLRasa+a1VY10Jk2Kgh7OnDiAmcNLdmoX6+Li4uKya3a2Uv8p4MeRhl0MDMPpgv8QGAr8GPi5lNL1zMyQ5/OQ5/MQThj886Ma5n3SjCUlXo9CczRFeZ6PivxcubT2WJrzplRx1bHDaY2mCHo1xlbm5TSN6ZrqlKmFMzIX6kUG1pASn6f3felI0uDNNU2sqe8kYVjM+6SJoFelOEfIRgEvtMXSfPfJj/nLlUfl3O9rJ47gpv9bQmfS7FWG1rBsOpMmN508ss89+yVb27nz+VUkDBOPKlAVhS1tMRZvaacg4OEn5x3BqIrePdldXFxcXHbNzpL6scAPpJT/yHy+RgjRAnwA/FBKeddej+4gZGNzlP9+8mOiKROvpiAExJIWDZEUybRNZYEPjypIWzbRpEVFvpdvnzqGkswo3KLNbSyt6WBYaZAZw4rxqArThhYhgGjSIJw0sSyJz+O4rnU13kVTFhdO7Wmn+uKybfz+zQ1Yto0ioDWaJpww8Goq1aWih9hLYcBDazTNW+uaOXV8ZfZ4dWmQX180me8/s5z2WBpVEeiagmVLUhn/9W/MHsGcyb2X/1dti/C9p5fj0UTOwwQ4Dw6dSZP/fvJjfn/pVAYXBz7bD8HFxcXlMGVnSb0YWLbDsY8zf76+d8I5uDEtm+89s4KkYeUkroCuOSYqmbJ5OGFRGND5yjGDmDN5IKoi+N7Ty1i0pT0rVKMqCiGfxg/njGdoSZC0ZbOlNYGqiOyefEMkRWW+lzyfhkdROHuHhPr66kbufW0d+T4NXXN+1DVtCXRNxZaSjc0xRmUc47rjUQXPL92Wk9QBRlfk8ei1R/PBxjb+9fE2WqIp/LrKCaPKOG1C5Q7JOpffv7kOIejT9S3Pp9EWTfPntzdx5zkT+v+mu7i4uLhk2VlSF8COqiFdUmVuyb0XPtzcRnss1cMbHZyyedqyueSoIVx29JBs17eUkv9+8mOW1YYpDnpyusFjKZNbn1pGZYEPTREEdJWUKbOCN7YtqW1PUJ7n5ZcXTqaq2z64ZUvmLthIUFeze9V2RgDHowBCYFg2de0JdE3JuqPl+TTyfZ6s3OuOeDWVE0aXccLo/svzbmiOsr4pukujmcKAh/c2ttISTVEa2qd2Ai4uLi6HBLsaabteCHF2t8+7FolfF0LUdzsupZQ/3OPRHWSs2hbB2sk8t64pLN7SzpdnDs0eW1EXYUVdpEdCBwh6Neo6Eiyt6WB0RYiSkJeOeJrmzlS25F0S1CkJeZkxLLfjfHldmHDcyGlsU4QzmdYVoWVLWqJpvJpAy+jQtkbTNHemGVG2a134/rKhKQrs2oZVUQSqgM0tMTepu7i4uOwGu0rqV/dxfEfpVokz3nZYo2tKjnrcjti20zTXndfXNCKl7DPhmZZNLGUBjupccVDvUeYOJwzWNERyfNlbo6leR8uLAjptsTTg6K0L4YzEdY2qKQjSpk1rLM38T5o4cUzfnexdSCmR0knKvX7f/RSuAefts+z+X+/i4uLisp0+k7qU0p0v+pQcPayEv7+/tc8kbdqS40aW5pwPJwxUte8VrJWRhLelRO0j8QvIJP7t9LV3XZrnJPW0aWcd5brf1bIlmqpQGtT567ubOWF0Wa/fi5SSJTUdPLWolkVb2rBsycAiPxdNG8znxlfk7NNXFfoRiJ0+vHTd07JlzjaCi4uLi0v/cRP3Z6S2Pc7b61pYtLmNoSV+Jg0qoC1m5MiqGpbNxuYo2zoS3PPqWs75/Tv8af4G2mNphpUGMXeyMtVUZ4XeV0J3EiGU5+WWqycPLkBVnH3z7vg9KpX5XrqOKsKpydvScZRDwPCyICGfxraOJDVtCXZESsmf397ErU8tY/HWNgoDHkpDOh3xNL95fR3ffGwJkW6uc0cMLKAkpJPoxbSmO51Jk3ED8t3udxcXF5fdxDWv3k1aoyl+/tIaltaGURVH2U3XFL48cwiqAou3dmDZzsqzuTOFlJLhZSFCPg3Dsnnio1rmr2vmltPHcH/SpKUzRdKwsCwbTVUoCnopy3PG3PL9nj7V3DqTJtWlAYaW5CbCgK5x/pSBPLawhuKgJ+e1Aa+Grgos29lnT6RNJAJdExT6HV94IQSqIrINdN1ZsLaZxxfWUBjw5DjUBXQNv0eyqSXGz19aw0/OPwJw9tK/esJw7npxNR5VZMfwupMyLUxbcs1xw3b7Z+Li4uJyuOMm9d0gaVh858mPqe9IUBTY3uCWNm0eWLCJb586mutOGMGSre28sqIB05YMLPRlr+vyH69tS/C1RxcTTZl0Jrcnz7Rtk+xI0NiZYNLAQo4ZUcrLKxso8GvZhCilJJqykNCnjeqVx1TTEE6yYG0ziuI03tnS6aqXUlAa1IikLGS3B4a2mEF7zKCq0IuiqD0U5KSU/P2DrXg9Sk5C70IIQVHAw8LNbdS2xxlU5DxsnDimnNZYmrnzNyJxBGw0RWBYkmjKRFUE3z9rHJMGFX72H5CLi4vLYYpbft8N3l7XzLaOBEVBPSeZ6ppC0Kvy4NubGFoc4OxJVdSFk1Tme3skXduWtMZStHSmSKQtdkyPNiBtaImmuOb4YVwxaygp06YjbmQ+TGeU7YuTcxrkuqOpCt///Dh+dsERTBtajECgqwrnHjmQMRUh2hMminAeMlTFWZl7VIFQYGt7kvI8LwMKcve3mztTbGmNE9T7dlUTwqkCLNrcnnP8C1MHMffyaZw9qQrDkrTFnBL9RdMH85crj+pXU97eoLq6GiFEj48JE5x5+b/+9a+9nn/ttdf2S7wuLi4ufeGu1HeD11Y35TiudcfnUWmPpXnonU3UtCdoiiSpzPcRzJS0uwgnDCxbYuMkeEWQmTeT2QZ6VRE0RlK8urKRK2ZVc+G0wSyr7SBuWAwo8DGmIm+XY2JCCKYNLe7hn75qW5hPGqNkLVwBw7RJWxKJ082+uTXG+qZORpZvl25NGBaOaduu3NVkr6X76tIgN58yiptPGbWL1+87Fi5ciGVtbzSMxWIcccQRXHLJJdljqqpSW1ub87ri4s/ugOfi4uKyJ3GT+m7gJLbek1osZbKlLc6jH2xFVxUiCZNYKkrQqzGsNJh9XThTbre6J3ScPwVOmduWoCB5fU0jFx01GL+ucnQfDmifhrRps6UtzpASP9s6kpi27NEN79UETZEUX390MXefNzH7dYuCOpbMPIj08R6A80CyY/PegUpZWa6QzgMPPIBhGFxzTe7kZmVlrsKei4uLy4GGW37fDaYOKSLVSye3YdlsaI6BhLI8LyUhnaKABykhmjKp6e6ilkna3dOilBI701xnS7J/xnpZ8fYXR5vdYkVdmKU1HbTHHKlaKaE05GX8gHx0VUEIgaYKvJpC0KuhayqqAh5NcNeLq7Kr7nyfh2NGlBBO9B2TYdloisIxmfG9aMokZVp9Xn+gMXfuXObMmUNV1XbZXcuyGD58OAMGDOCkk07ihRde2I8Ruri4uPTOzqxX3/gU95FSylP2QDwHBWceUckTi2pIpK0c7/HWaArTsinL86EKgWlLKgt8RFMmtpSEEwZp0844lDnpXNcU0padTfLdkTiz7SnD2uWMd3faYmmeWVLHc0tq2RZOEk9b5Pk0Cv06QsBxI0vxeRRSpuPtbliSgK7mPGB0dduHvBodcYM3VjdxzpFOkrt85lA+3NhGLGX2MISxbEkkYfKlGUN4fmkd/1xcR2fSQEqYNrSIL80YwuTBB24z3KJFi/joo4/4yU9+kj02ZswYHn74YSZNmkQikeDxxx9nzpw5PPjggz1W8y4uhyILFizg17/+NUuXLmXr1q3cdddd3HHHHdnzDz30EI888ggrVqwgmUwyevRovv3tb3PZZZdlr3nuueeYO3cuixcvJhKJMGzYMK6//npuvvnmfv/f5rJrdlZ+V8jVRxsDVAKbgUagAqjG8VT/ZO+Ed2BSnufjzjnj+dG/VtGWcSyzbElrNI3P45ilLK8LI6VThi4M6CQMK+uF7veojB2Qz7b2BG3xNI2RVK9CdCLz0RxN896GVo4ZWbrL2BrCSW5+bAlt0RTRlEk05TTDRRImScNmeGmQBWubHeW2lIXXo/QQoAHnYaI8z4uSGW1bvLU9m9SHl4X42QVH8MPnVtIeM7Lys6YtEQjOm1LF2+ub2dqWIC9j8WpLycc1HXy0tZ2bTx7Vp5vb/mbu3LkMGzaM0047LXts1qxZzJo1K+fztrY2fv7zn7tJ3eWwIBqNMn78eC699FK+9a1v9Tj/+uuvc8455/CLX/yCoqIinnnmGS6//HI0TePiiy8GYN68ecyaNYs77riDyspK5s2bxw033EAymeTWW2/d19/SIYvoLpLS50VCnAf8FrhQSvlht+NHA48D35RSPrfXotwJ06dPl4sWLdofX5r2WJrXVjeyoi5MyKexeEs7S2vCgCMaIyBTRrcJ6BoFfo0rjhnGyWPKGVzsZ21jlP9+cilrGjod4ZduCJwZ8rI8L8VBnTGVedx78ZSca0zLZm1jlIRhMbjIT3m+j28/sZRV28J4NZW1jVG0bk1thiUp8HuoLg3Q1JlCFZAwbFqjqZxROdOWeFSFURUhPKpCOGEwa3gJ/29Ornta0rB4e10z725oJW3ajKrI48yJlfzlnU28vrqJklBPYxvDsommLB64fDpDSg4skZlIJEJVVRV33HEHt912206vvf/++7n55ptJp9P7KDoXlwOD6upqrr322pyVem/MmTMHXdf55z//2ec1N910E++++y4fffTRng7zkEYI8ZGUcnpv5/rbKHcXjrf6h90PSik/EELcCdwN7Jekvj8pCupcOH0wF04fDMCXH3wfy7ZzJFIVAUJViGX81c87sorCgJPsxlTm8ei1M/nxv1bw3NJ6bCkzydxZHZeEvAwq8mNLyfqMKUoX/1nZwJ/e2kg0aaIIgWXbjK7IY+W2MGV5Xuo6EoBEiO1tE5oqCCcNDEuS79NQFcGkQUH+taw+o0fr+PWEfBqDiwLZRG9aEr9H5Xevr8Wjqhw9vJgjBxXi86h8bnwln+tm0doRTzPvk2YK+3Bk86gKUpo8/3EdN5584HTAAzz66KOk02muuuqqXV67ZMkSBg8evA+icnE5OAmHw4wbN26X15SW7roC6dJ/+pvURwHNfZxrAkbumXAOXsJxg8ZwCl1TMDOqcFmkMybm8yjZhN5Fgd/D5ydVsaIugtejkjAsFAQhn4YnowlvWhKvtv1B4V8fb+N3r68j6FWzydPOaLG3xdIUBfWMRWtuUb2rnJ8yLYK6SmvU4Fdfm4yuKixY20zIpxHwqjlfqyWaYltHkv+sauyauOPZJbUMLg7y0/MnUp7vy/ka65uiWWvYvgjoao8Z9gOBuXPnct5551FRUZFz/M4772TGjBmMHj2aVCrFU089xYMPPsjvfve7/RSpi8uBzaOPPsr777/Pb37zmz6vmTdvHv/3f//H008/vQ8jO/Tpb1LfBHwVeKmXc1/F2Wc/rAknDDRNMLI8xKaWWM6IGDjuaCFv72/3tCHFCOF0ngd6EXWJJk0unDYIgETaYu6CDeT5tKxPOjir+wK/h6bOJK3RNB5VZPTne1F9w1Fyy/drCCG4/fPjaIml2dQSw7a3l+DbYmnqO5IMKvb3KKXXtsf57lPLeOCK6Tlx9JcDzYft/fffZ9myZdxzzz09zkUiEW644QYaGhrw+/2MHTuWJ554ggsuuGA/ROricmDz3HPPcd111/HnP/+ZqVOn9nrN+++/z3nnncedd97JnDlz9nGEhzb9Teo/Av4uhFgBPMX2RrkvAmOBy3by2sOCwqAH23bKy2Mr84imTBJpC0UR5Pk0TEtSWdC7+1hBwMMFUwfx+KKtFAX07CpXSkln0ukwP2/KQAAWbWnDMCUhb89EGtBVFCFojqYYVhqkPWMs07Vit6WT/AO6SlsszZdmDAGcMbXfXTKFV1Y28M/FtTSEk/h1lcoCZxXem7d5YcBDQzjB+xtbOWH09jnvEWUhZGYcr6/VejxlcfLYov6+tfuEmTNnZk14koZFezyNT1MpCurcc889vSZ7FxeXXB577DGuvPJKHnjgAS6//PJer5k3bx5z5szh9ttv53vf+94+jvDQp19JXUr5mBCiBSe53w54AANYCJwupXx974V4cJDv83DsyBLeXt9CcVAnz+chz+eUxp3kbHDB1IF9vv7q44ZhScmzS+qQcvtIWUW+lx+eMyFb5o4kzD79yVVFUJHnpT6cxO9RyPNpRJIGHgUQTof+gAIvHXEDj6owuNif1Wf36yrnTRmYfXgAOPt3b/Xwbu+OogheXdWYk9SLgjrHjypl/ifNFPfRKCeE4NwjD7zu97ZYmkff38IrKxscvQApGVke4spjhjFjmKse5+KyMx544AFuuukmHn744WzH+468+OKLXHjhhdx111185zvf2ccRHh70W1FOSvka8JpwOq9KgRYp5c69NA8zvnbSCFZui9ASTVPgdwxLEmlnlG1adTEnj6vo87WqIvjaiSO45KjBLNrcTsq0GVzs54iBBTl74+X5XnayXU2BX8eWEE44pimmbRNNWoCkwK+RNGzaYgYlIZ17Xl2LZUvGVOZxy+ljGFwczLlXyrQJevvWeFcVQSzdU4TmxpNHsb4pSk1bgjy/hldTkFISSZpYtuRrJ45gaEmwlzvuP1qiKW76xxKaoykK/Rqa6sS8pTXG959Zzk0nj+ScI/t+KHNxOZSJRqOsX78egHQ6TUNDA0uXLiUUCjFy5Ejuvfdevvvd73Lfffdx4okn0tDQAICu61k55SeffJLLLruM2267jcsuuyx7jaqqPVQdXXaffo205bxAiBBQAmyTUhq7un5vsz9H2nqjNZriiUW1vLhsG42RJCnTxq+rFAZ0ThlbzuWzhvYwSfk0mJbNlx54n5RpEdBzn8mklLTG0nzjpJFMH1rMG2saaYykKAxolOX5+KShk5dWNFAc9KApCk2dKVo6k5gSNEVwxayhXHv88Gy5/ZqHF9IUSfYQmNn+vab54rRBfPXEET3OdSYNnl5cx7NL6oinLWwpmTSogEuPHsq0oQdW6R3gh8+v4L0Nrb1WJgzLJpayePjqGVTs0Bjo4nI4MG/ePGbPnt3j+Iknnsi8efOorq5my5YtfZ4HOOmkk5g/f36Pa4YOHcrmzZv3dMiHNDsbaet3UhdCnA38GJicOXSUlHKxEOJB4A0p5T/2SLSfkgMtqYOzn3xnJkkEfRp+j4plSzoSBiFd4/azxrJkawdrGjop8Hs4Y2Il04cW5XbM74RFm9u449kVCMg2u6VNm0jCZOyAPH514eScsTpwOt4vvP89x41NCNY1RUmbNqoiUISjBx/yaYwoC/G/l06hPM/HKysb+OXLn1AS8vTopDctm86kyYNfOYrBxX3Pm1u2JJo08Wiix0PIgUJLNMVlD3xAQUDr1bMeyPYgXHWs6/fu4tLVTKvtYFTlsm/4zHPqGfGZfwKvA7cCv+h2ehPwFWC/JPUDkfc2tPL+xjZKQtutWVVFUBLU2doa57pHFlGR70fXBKYleXdDC0cMLODu847Iys4m0hZvrWtmbWOUkE/luJFljCwPATC9uphfXzSZh97ZzLLaDpRM5/yXjh7CpTOG9EjoAEu3dpA2bQoDHmrbElm52i40VWQbxObO38gPzh7PKWPLmf9JMx9uaiXk0/B5VKSUxFIWKdPmqmOrd5rQu77vgj5m1g8UtrTGUBTRZ0IHR853WW14H0bl4nLg0RBO8vzSOl5YXk88ZaJrKp8bV84Xpg6iuvTA2lI7XOnv0umHwENSymuFEBq5SX0F8I09HtlBzLNL6xxf8h2SRCLtJE0pIc+n5qi4LasN86cFG/jm50azoi7MHc+uIJ7Zr5YS/vHBVo4fVcatZ4xF1xQmVBXwqwsnE0kaJA2LooCevV9vdBmy2BLa4uke1rECR+a1wO/hnfUthBMGBX4PPzp3Ak8vruOpj2qcbnokw0qDXDGrmmP7IVt7MKAqOyoi90RKmfMQ5OJyuLGiLsztTy8jadrk+zRK87yYls0rKxt5dVUjt581Lqdp1mX/0N+kPg64JfP3Hf/3a8fZY3fJ0BhJ9jq73RJNAwJFcQRluhbUQggKAhqvrGzknCOruP3pZQA5+7tSSuavbaY4qHPD7O1aP/k+D/m+Xa+EK/J9SAlGxi1tx0WpLcGrKdlyfGs0RYHfg0dVuPiowXxx2iDaMw8Duqrw6upGrvnrQtrjaQYW+vnCtEGcMKpsp6IzByqjK0IoQmBYdp8PRoYlOWGU+x+Wy+FJeyzN959ZDkBJt/+XNFWhKKiQMix+9u/VDCkOuCv2/Ux/VUMiOB3vvVFN32pzhyUDC/2kzJ6DAY65ikRKp9zdHS2zWnxyUS0pw+7RnCaEoDCg8eKyejqTn74/cUJVPpUFPhKGI4rT/clMSmd8qzTPm90ry9vhQUFVBKUhL4oi+ObjS/n9G+tpjiYRAja2RPnpi6v58QsrMa2DbyAioGvMmVxFOGHSW49JLGUS0DVOGlu+H6Jzcdn/vLq6kYRh9dk06/Wo2BKeWVK3jyNz2ZH+JvVXgduFEN09M6UQwgvcSO9Kc4ct5x45ENOSPebJ1YyTWb5P67EilBnr1eW1YXx67z8WTVGQSNbtoAPfH4QQfO+scXhUBa8mMDIPHZYtMWxJnlejOKgTSZpMqMqnLK+n4AzAn+ZvZHNLjOKgh4DufB95Pg/FQQ/vrGvh38sbPnVsBwJXHVvNjOpi2mIGkYSBYdkkDYu2aBpFCH5y/sQ+FQFdXA51/r2sHn8vvTrdyfOpvLqqsdcHY5d9R3+T+vdxbFc/AR7EWejdBiwFBgF37o3gDlZmDi/m5LHltMUMYikzKz6TNG3SpqQ9nmbVtggN4SRWxkQ9YVgUB3WCXpWd/k7I3oRf+8eYyjzuu3QqZx4xAHCU0xRFMLDQR3VpgGjSRCD42om9S/l3Jg1eX9NIYaBnN7wQgqBX4/GFWw/KX2qvpvLjcydw5zkTGF2Rh5QQ9GpcOnMID3xlOhOqCvYwZ6PnAAAgAElEQVR3iC4u+43OlNmjurgjmqqQNq3s/2ku+4f+KsptFkJMxVGUOx2wgBOAl4H/J6XctvdCPPgQQnDrGWOZOqSQxxfV8ElDJ63RdDYZpy1J2jLpTJk0RpIMLAwgBPz3aSPY1pHgL+9sItjLQtmwbFRVMLYyf7dja4mlMCyb8jwvrbEUigCJIJKwqC4N8K3PjWZMZV6vr22MJBGIPvfNfR6Fxs4UacvOMYU5WNBUhWNHlh4yDYAuLnuKkqBOfTix02Zcw3K2Dfs7muuyd/g0inK1wDV7MZZDCkURnD5xAMeOKuPiue8ihKA1mibgVUkZNrZ09taTpk1dR5wfnTuBE0aX0R5L89jCGjqTRs6+tm1LwgmTy2YMyY69fVpeyLi7qaqgstBHRYGP1mgKy5Z885QRnDO5qscKXErJmoZOXlnZwKaWGM3RFLoq8PUSg50RsfEo7i+1i8uhxDmTq/jdG+t6XWx0EelmPOWy/+jX/75CiCuEEDP7OFcqhLhiz4Z16PDW2mbSpqQjbmSFXwK6SsCj4vco6IqgJOilNZoGHO30X104mTyfh/ZYmubOFC3RFB0Jk3MmV3HFMdW7FUdrNMV9b64nz69R4PdkPdvL830UBjz85e3NpHdocrNtya9e+YRvPraEfy+rZ21jhHjKZHV9J82dKaSESMKgMZLKxJnm5LHlKAdhB7yLi0vfzB5bTmFAJ5LoKQsNTjOpT1M5Z7Irpby/6e+S6q/AAiHEDb2cGwE8tMciOsSoaYtjWHbGoGX7cUURaKqCojjJtbu/+MjyEI9eczQ/Onci1x0/nJtOHsXfrpnBzaeM2u2RsTc/acKSstfymd+jkjQsFm7K9Th/Zmkdr6xsoDDgoTikU+DXGVoSQCjO97W8LsymljjbOuLUtCXY1pEgabh7ai4uhxpBr8avvjiZkE+jLZYmljIxLJtE2qIt5jST/uwLR2SdHXfGggULOPfccxk6dChCCO6+++4+r121ahXBYBBNyy0qX3nllQghenwoikJTU9Nn/n4PZj5NnfQ54HdCiN8KVxew35SEvAiczsK+Up0iwLPDXLumKswcXsIlM4Zw7pEDP7Pm+LaOxE7PW7akJZrK+fyxD7cS8jnSqbbtdPPn+z0MKfJj2JKkYSFExs7VqzK6PMSCdS387f3NnylWFxeXA48hJQEeuvIovnnKqIx/haA4qHPt8cP561UzmDiwf82k0WiU8ePH84tf/ILKyso+r4vH41x00UWcfPLJPc799re/pb6+Pufj6KOPZvbs2ZSXH96jp59mRueXwBM4q/bhQohLpJSxvRLVIcQJo8v404INeBTRw2O8y141bdm0x9Jc8qf3KAronDO5itljy3uVe91dyjPiM32hKoLCbnKubbE0kaSJImBra5yEYSGBkNdxXdNVgUAwtCSARxX4PSpCCHTL5qmParl4+u7v/bu4uByYBL0an59Uxecn7b518llnncVZZ50FwK233trndTfccAPHHXccM2fO5KWXcqemCwoKKCjY/hCxdu1aPvjgA5544ondjutQ4VN1NEkpnwROBKYCbwsh3A2UXVCW5+WKY6oJ+TRMW2LZdlbgxbIlqhC0xdK0xdKkTZva9ji/fnUt337i46xM7GehIZxk7vwNPP1RLXXtcba2xkgZVs41KdNC1xSOHrZdGFBXFTriaTa3xEiadqYBThBPmTSEkxkBHYUCvwe/R8s22HlUBcuWbGjuOUvvNPs5srYuLi4uffHII4+wcOFC7r333n5dP3fuXMrLyznvvPP2cmQHPp9aTUNKuUgIcTTwPLAQ+Okej+oQ49IZQxiQ7+PXr65lfVMUKSVeTcHv1YinTUZVhLIOZrqmENAl6xo7efjdzXz9pN5nxvvD6voItzy1jKRpEdRVSkJeGiJJ2mIGI8qChHwanUkT05bcdsbYnJW1advE007y7a4Tr6mClGmTtiQhn2BVfcRxexOCkpBOeV7PbQLTsnl2aR2PL6whnHDU8GYOL+GqY4cxzJWUdHFx6cbq1av5zne+w5tvvonfv2ub6lQqxcMPP8x1112Hx3Ngm0ftC3ZLIktKWSuEOA74O/A7duWGcZgjhODkcRXMHltOczTFqroIEvjnR7Wsa4r0sCQVQpDvdyRhrz5uWI+Z7/7YHpqWzQ+fX4lEZrWaBxb5CXk16joSrG+OMajIz6RBBVwxq5opQ3I9zt9a10Kh30NLNI0lnYoCOD9oRYAlyViqKnhUBSmhudOpOAwqCmQd5aSU/OylNcz/pImQz1Gts23J+xtbWby1nd9cfCQjy3ufi3dxcTm8SKVSXHjhhdx9991MnDixX6956qmnaGtr47rrrtvL0R0c9Lf8/iOgtvsBKWVcSnk+8D3gkT0d2KGIEILyPB8njS1n9thyOhJpAn1Ij3pUBcOWhOPbdd7Tps2Ti2q45E/vc+Zv3+Kc37/Dva9+wl/e3sjtTy/j7hdW8d6GVkzLZklNB+FEuoe0aUHAw/iqfIaUBLjtzLHce/GUHgkdHI9xn0dlWGkARQhMW2Y/unfQq0IgcBK9pkDKtCkJ6tl+gCU1Hby1rpmS0PZjiuI02Fi25Levr/usb+unoj+dtx988AHHHHMMPp+PAQMGcPvtt2NZ27cMkskkV111FVOmTEHXdUaO3P1qiouLy3bq6+tZuXIlN9xwA5qmoWka11xzDZZloWkaP/1pz8Lw/fffz2mnncbw4cP3Q8QHHv1VlPvRTs79z54LB4QQZwC/BVTgwT19//2JlJJNLTEawkny/R4K/B464ga95XXbdlxXugwUDMvmB88u56MtHYR8KqUhnfZ4mvvnb0QVMKg4gAIsWNfMmMo8jh9Vhr0TbxXbljRFUn2eryr0IQTk+z2M93mIpZwyva4p1HckMGwDTVUwLIlEZtTyBGUhLy3RFPG0Y4Ly0vJ6hKDXikK+T+OThij14USmm3bv09V5e+mll/Ktb32rx/mamhpOPfVULrjgAh544AHWrVvH1VdfjZSS//kf55+iZVnous7111/Pe++9x7vvvrtPYndxOdQZOHAgy5cvzzn23HPP8cMf/pClS5dSUVGRc27VqlW8/fbbPP300/syzAOaPpO6EOIEYLGUMpr5+06RUi74rMEIIVTgPuBUnMrAQiHE81LKVZ/13vubmrY4P/33ajY0R1EVgZRO93s8bRH0qj2SXkfc4JiRpdmk/uaaJhZv7aAk5OiuG5ZNbZszppY0bTY2x9A1hQK/xoraMIaVOxe/I0pGq70lmiLk1Xp02h8/qoz73txAyrTwaiohnxOHadnEUiYeVTCxKp9oyiRhWKiKIN/nQdcUwnGDcMIgoGs0dabQ+5CNFEKgKRBOGPssqe+q8/aPf/wj+fn5/PnPf0ZRFCZMmEBdXR233HILP/jBDwgGgwSDQebOnQtAY2Ojm9RdXD4F0WiU9evXA5BOp2loaGDp0qWEQiFGjhzZo+y+aNEigF7L8XPnzmXAgAHMmTNn7wd+kLCzlfo8YCbwYebvfe2bd41h74n5pRnAeinlRgAhxGPAucBBndTbYmm+9fhSYimTom5mKNGUybaOBPG0SUjXyPN78HsUIgmToFfj2uOHZe/xzJI6vB4l+9r2WJqUuV1u1sr82R4zUBQTSQSfRyVt2j283ZNpi/Z4mj/O28D98zcgBHxuXAVXHzuMosz+e57Pwy2nj+FnL60hnrLxaoL6cJJwwsS0bVRFsLk1zsAiH/n+7c0pZkZ4ptDv3Gd4aZDV9ZFe5SVtKbFsem2u21+88847nHbaaSjdpG7POOMMbrzxRpYsWcJxxx23H6NzcTn4WbRoEbNnz85+ft9993Hfffdx4oknMm/evH7fJ5FI8Mgjj3DjjTf2EKc5nNnZOzGb7cn0ZPZNM9xAoKbb57XA0fvg6+5VXli2jUjCoCSkZ49JCW3RNGlTYlgW0aRJQySJR1WYM7mKm04ZxcDC7avXlmjuitdJrjL7RAXOaBqAKp0xua+fNIKnF9fh1RSCXueZqzNpsrklRsjnIc+noqkKpm3z8ooGlmzt4L5Lp1KQmVc/cUw5lQV+Hn53E88t3Za1jbWkM5rWHk8TS5uMqcjLPjiEEwanja/MdtJ/flIV/17egGnZPYweOuIGM4eXUBzUOVCor6/n2GOPzTnWJZBRX1+/P0JycTmkOOmkk5BSUtMWZ3NrDJ9H5YiBBX3qclx55ZVceeWVPY77/X7a29t7vuAwp8+kLqWc3+3v8/ZJNL27ivZ4mBBCXA9cDzBkyJC9HdNn5tVVjQS8uf9gt3UkaI8b6JojSjNhYCG2lESTJnUdCcp38DMfUOhnQ1NnNnl2JfDub44QAimd+fdYymTSoEKmDCnioXc2sakllr2+MOBhSEmQhGGxrSNOJOk04zVHU8xdsIFbzhibveeYyjxGlOdRWeAjkjCJppzZeUUITEtiWhY1bXEGFfuJJi0qC3xce9z2CsPI8hBXHDOUh9/djCKcHgHTcrYdyvO93HzKqD3yHu9NuqojrpCii8tnp7kzxf+8tJrldeGsGJemKFx1bDXnTxno/p59RvpVsxBCbATOl1J+3Mu5icDzUso90XpYCwzu9vkgoIetq5TyT8CfAKZPn37Aj9MZmTnuLkxb0hpLO/7EUtK1g6FrCsUhnaZIivc3tnL8qLLsay6YOoi7X1iFlNLROd7ha3TdXmQkXSWgq4KjhpVw9LBiIknH1/3qvy4k5NXoTBpsaokj5XaVu2Ta4i/vbOLkseVMry7O3vvfy+uJpSyiGU9lAXhUFcOSpEyLlmiaqkIfX545lPOmDKTAnzsretnRQ5lQVcCTGRvagoCHL82o5KxJA8j3HVhzpQMGDKChoSHnWNfnO5O0dHFx2TWxlMl/Pb6U5s5UzlZk2rT5w5vOPvsXprpOb5+F/m5EVAN9me75gKF7JBpHzGaUEGIYUAdcAly6h+693zhySCFvrmlC15wycyIj6iJw5r11dUePcskHG9sYUhzgD29uYPHWdlTFaWxriKTI82ns+DCrdM2RS5nVY98WTjpfR4hsou1MmhT6Nda2xhGQUxL3aIK0aXPXC6t4/KuzsuWwzqRBOJFGU5WchwmPKtAUlZRpc+H0wXx5ZnXf78HgQo4cXPip37t9zbHHHsvf/vY3bNvO7qu//PLLBAIBpkyZsp+jc3E5uHl9dRNNnckeW266ppDv9/DQO5s564gBe1Qi+3Dj08jE9rUing507IFYkFKawI3AK8Bq4Akp5co9ce/9yRenDUIIR4mtO1I6Jinl+d6ckpME1jREOOM3C3hmSS1b22Jsbomxqj5CNGkQ1DX0TIJVFYEinHvJjLh71/GatngPx7SBRX6ao2nsHXTowWlc83lUkobNh5vassfL8rzYsve9EVs6v5Af14Q/y1u0z4hGoyxdupSlS5fmdN52deN+/etfJxwOc91117Fy5Uqef/55fvCDH3DTTTcRDG5Xv1u1ahVLly6loaGBdDqdc08XF5feeXllPV6t97SjawqmZbOi7uD4v+RApc+kLoT4LyHEViHEVpw886+uz7t9NOOMoL28pwKSUv5bSjlaSjlCSvmTPXXf/cnI8jy+e/oYkoaV1Xg3LRvDlpTleXs8taZNm7fWtYAEn0fFq6noGROVaMqiLZrmlxdOpjTPi64qeDU1+4vijMo5Cfqpj2r56t8W5bivXTx9MPG02cPcRQK2DeV5XkzbpjGSzJ77/BEDHJe5HV7U9VBS4PccNOYtixYtYsqUKUyZMoX6+nruu+8+pkyZwrXXXgvA4MGD+c9//sPq1auZNm0a119/Pddffz0/+UnuP8WzzjqLKVOmMHfuXGpqarL33Latx26Ri4tLhnjK2rl9tKDH4sfl07Gz8vtG4PXM378CLAKad7gmhdMh/+CeD+3Q4pRxFUwZUsTrqxvZ1BJjXVOUtY0RKvJ82VW6lJKOuEkibSGlxLNDCUoRAlWB+ohjqDKsJEBTZ4poyqQ9ozzn1RQQENBVKvK91LQluOPZFfzxsqkIITh1fAVPfVTLW+taMG3HJa5rLK7Ar5Hv99AeSxPsJl170fTB/P6N9bTG0ihi+2vAaboL6CqfG5crCnGg0tV5uzNmzpy5y9nzzZs378GoXFwOD8ZV5fP66sZey+tdTb5DigP7IbJDh511vz+H46HelXR+LKXctI/iOiQpDupcON3pAzQtmz/M28ALy7aBBBtQhdMtvqzWzO6R74gqIGlabG2N89MvTOKWpz7GlhBJmKhqxilNU6guCSKEoDCgsak5xvK6MAFdJZ62uOPs8Vz5lw/pTBqYtlNyz/d76EyarKwLI4H/fXMdm1pjXHlMNUGvxo/OmcCPX1hF0rSwrExTX1DHMG2GlYWYObyk13gPRMIJgxeXbePfyxvoTBoMLQnyxWmDOG5kKcrOVhEuLi6fifOnDOSN1U0Ylp0jNw3QETeZNKiAwW5S/0yIXa1aDnSmT58uuxSHDkaaOpMs3tJO2pKMKg8xtjKPz90zn7r2RA/RGHCeZlOmzc++MIkLpg2iM2nw0xdX8cKyBgK6SkFAo9Cv5ySnra1x/LqKR1WyZixVBT62tMbx6wqqEKxvimJK56FhUJGffL+HSMJkZHmIey8+Ep9H5ZUV9dw/fyMJw8o2+c0aUcy3Tx3To+O9v9S0xfnPqkbq2uMMKPBz2oQKhpbsPee2pkiSbz62lJZoioBXxaMIEoZF2pTMHlvObWeMdRO7i8te5OnFtcydvxGJJKCrmLYkbdhUFPi456IjKcvrqyfbpQshxEdSyum9neu3DI8QYjhwETAEp+O9O1JKec3uh3j4Up7n4/QJlSze2s6j729hY3MMK2Ocokl6SL1attNQMnuMM+6W5/MwrbqYhVvaKQ31/GWIJAyaoykq8r2UhvTsyFttR4LCgIeKfB9vZ0rxeT6NigJfdsysOOhhfVOUV1c1MmdyFadPHMDJ4ypYXR8hadhUlwQoz989NTgpJQ+9u5nHPtya8WZ35vWf/KiG86cM5Gsnjtgr86q/fOUT2mLpHCGgPFXBlpI31jQxo7qIz413R9dcXPYWX5g6iIkDC3huSR2r6h2XyjMnVjJ7bHlWFttl9+nvnPq5wJM4jXVNOHvp3Tm4l/v7ESklf5y3gWeW1KEqAr+uomtOMoulTPy6mm0ssSwb05ZcOaua4m4JfNrQYhSxMTvDvv3mzkpYEYKS0PYOe0URlAR1WqNpvjitlHVNnRT6PT0U34QQ+HWFZ5fUMWdyFeC4x00a9NlH015b1cg/PthKUcCT0zhj2ZJ/Lq5jYKGfc44c+Jm/TnfqOhJ8XNtBUaBnVUERAr9H4bGFNW5Sd3HZy4yuyOO73USuXPYc/R1puxtH/32AlLJKSjlshw/X864XWqIpNjZHCSeMPq9ZuLmdZ5bUURjwUBjw4NUUioNeRleE0FTHuCVpWKQMGyEEVx1bze1njsu5x7DSIEcPL6EtZmQb2ADiaZOUKbP3TRgWScPKNor5PAovr2hAV5UeCb0Lj6rQFt+zY1pSSv72/hYCutKjE9aZx1f5+wdbHae6PUhNWxx1Jx70AV1lc2t8l410Li4uLgcq/a11DAe+I6XcsfvdpRc2t8T4/ZvrWVYbRlOcEbPjRpbyjdkje4yv/fOjWrQe4jOO5ekRA/PZ1pFkypAi/LrKeZOrOG5UWa9J6XtnjuNXr6zhrfUtdOnNJQyLoK7g0xRWbosgpZNQNUWhosBLUFcxLBtLOlasve0lJw2b4aV7do+7PW7QEEn2umIG8HtUOuIGjZ3JPeretitBC9OW+DTFlal0cXE5aOlvUl8DHDztzfuRmrY433xsCSnTpiigIYSzV7xgXTNrGjq577KpOU1lG1ui+HtJNpYtqe1I0hE3WLUtgqYKVtZFqCrczE/OP4Kqwtxk59dVfjBnAvXhBMtrHfGGqkIfl//5Qxo7U2hK14NDZk+9PUG+z8M5k0swbJv3NrT2eOCQUpI2bS6YNijboKeryh5pJNvZHaSUe2U/Z/yAfLyamrWT3ZHOhMnZmW0GFxcXl4OR/pbfbwG+l2mWc9kJD72ziYRhUdhN11hVBMUBna1tMe57cz217fHs9Xk+D6bdU2yhpi1OJGGg4Ci6leV5KQp6qA8n+e5TH2cNXXbE6SCv5LQJlWiq4iRHSc6InKIINEXQEU9z4pgybpw9ipKgTkt0u51rLGXSGjOYNbyYmrY4X/zju8z537c5+3/f4t5X11IfTuz2e1QU8DCg0E883fv3kDRsSoI6FXvYklXXFK4+rppo0iLdTeBCSkkkYeDXVb44zdWddnFxOXjpb1K/E2elvloIsUIIsWCHj/m7eP1hQdKweGd9K4U7jHdFEiar6iM0daZ49P0tXP3XhXz7iaU0hJOcM3kAiXRuUk8ZFuGEgQDyfJpj/JKhMOChuTPFuxtadxnPf1Y2UhLU8Xkc8xXLlhiWJGnYpE1Jns+5V1melz9cNo1LZwxBEYKOuEF5no+bTx5BU2eah9/bgi0lJSGdgK7y0vJ6vv7oYra0xnbrfRJC8JVZQ0kajrJedyxbEktbfPnoIXtltGzOpCq+MXskacumI27QHjfoiJuU5/v49UWTe1RAXFxcXA4m+lt+t4BP9mYghwJJwwJy96ajSZNNLTEUBTyKwJbOSnXVtjDffGwJv7n4SP71cT1b2+IUZjrBoykTy5ZoqtJrklGF4O11LcweU549JqVkTUMnr6xsoCmSYmCRnw3NUbyawuiKEA2RFNs6EtiZDnlNEUSSBk8vrmXO5CqKgjpXHzeMq7vZpj70zibWN3dSEtSzVQdNdZzkwnGDn7+8hj9cNm233quTxpSzrSPJI+9twZYmiuLI1AoBl84YzJlHDNit++4KIQTnTxnIGRMqWVLTTjxlMaDQx/gB+e5euouLy0FPv5K6lPKkvRzHIUGez0NA13L2bOs6EgjhJGLTlvh1NaP05oyUvflJE/dcfCRz52/gzTVNICCasvBqCsPLQr1rqguwupXsTcvmV//5hDfWNIF03NYWbWmjPZZG4jSItcZS6JqC1u2BI23ZrGvq5PdvrOe/Th2d8yVMy+bZJXXk+zy9Jrt8v8b6piibWmIM241GOiEEl80cyinjKnhtdSPbOhJUFfo4eWzFPlkt+3WVY0aU7vWv4+Li4rIvcSf99yCqIrhg2iD++s4m9JCSLXVrqsi6qJV3U0sK6Covr2zk0qOHcssZY/nG7JE0d6Zoi6W5/ell+Dy9747YNjmyrI8vrOG11Y0UB/WcvXOfR2F1fSebW2PYtmOVmr2HdDTcBxUGeHlFA5fPGpojXhNJGHTEDdKZkTqPqlAS1Mn3exDCScqqItjWkditpN5FZYHjw+7i4uLi8tnpt/WqEGKgEOIeIcQiIcQmIcTEzPFvCSGO3nshHlxcOH0Q04YW0RYziCRNJDLryObzqNS2xfm4Jszq+k7CiTTxlJl9bcirMaw0yNQhhVSXBFnXFGVDU5S69gRJw1mZRxIG+X6NE0c7pfeUafHEohryfZ4eevEBXaM8z5sxe5HZBwvTsrFsyeAiPx5NQSJZtHm71aplS/4wbwP14QTtsTRpyyaaMtncGmdtYydm1/y4dB5MXFxcXFwODPqrKDcBeAtnb/09YArQNf80FJgBXLo3AjzY8GoqPzn/CN7d0MozS2ppCCfwZcaoEmkLTRVoqsC0berak5g2hONpCgLO22laNr985RM2NEcxTEnMMulIGDRGUhQEPAwrDfDzCyZny/I1bQnSlk2B3vvM96AiP00Rp/SeMm0EEPJpVOT7CGUkGW0JaWv7ENmTi2qYt7aZwoBOZ9JAFQKEIxuYNGy2tsYZWOjD51GZOLBgr76fLi4uLi79p7/l918Dq4HTgSTQXWLsXeDneziugxpNVThhdBknjC7j/vkbeGDBRgzLRs/ss5u2zCi7QUMkyZm/e4urjhnGFccM5amPanl9TSMlIZ3SkE4sZRFOGliZpHv1scNyyt396e3y6yrl3Xzbu/bIu9TqDMticJE/e+zxhTXk+VSCuppt2lMyJXdNFUQSBgFd5dYzxvZwWnJxcXFx2X/0N6kfB3xJShkVQuxYb20EXLHsPrhsxhDun7fecSJKmY6qW+acroKuKkQSBo8t3Mraxk7WNnbmlNJDPo2Qz/kxxVImjy+s4fQJldnEPKQ4gM/Tt6BKPG0xvCxINGliS2ffP23a1HUkCMcNrEwp/ca/L+aC6YOZM6mSpGllBXJGlAXZ0hbHtCRS2ggEEscf/oyJ7o/dxcXF5UCiv0m9pzrKdkqB3VciOcQJZzzLlczMlpnJ6AKwpUAIMGxJcdDDws1tSAkDCnsXXQnoKrXtCaIpk7yMk5pHVfjSjCH8acFGPIFctTfTtkkaNredOYZ1jVGeXlKHLSUN4RQp08LMrP69mkJrLM398zbwzJJavN0sX4NejXGVecTSjmBL10PB1CFF7giYi4uLywFGf5P6h8BVwL96OXcR8M4ei+gQ49/L6kmbEl0T2IqKbVgI4XTD2xnpVcfnXKAIQVvi/7d353FyVWXi/z/PvbV1Ve+d7mydzr4ACWQDEpQAgiIgOwjI5ihfB5zfjOPgCig4bgiDjCLq6Nev46CILAI6IAgadggEEpIA2chG9vTeXV3rvef3x63uVHe6O510J11Ved6vV726qu5S51Ql9dQ595znJBm9z8q23fUMppfMrWVnS5z/XbGdVNob1NaR9F7nI9NrOK62nI/MGMnxEyu57U/vkEo7OK7B7xMCtt21vKsBdrUkvEVVAr6u6/Yi4l1/D3rz4Zs6UkwfVXIo3i6llFKDMNALot8GzhWRvwJX433/nyEivwEuBL57iMqX1xzX8OSqnZSH/TguZC/+tfe6tqEik1I2ErQQOpPY7Ks9kWbqyOKuAW6dLEv4l9OncuWJdUQTaVKutzLb2PIQq3e18pnfLGXVtlZmjS3HNVBZHCDos7xSKz0AACAASURBVAj57G7rtQte97xtwc7WWK+rlbXE0swYVcqUmuLBvj1KKaWG2ICCujHmeeACYCLw//C+/28HTgYuMMYsOWQlzGNeiznN2IoibEu6LYvaGeFFoKrYG8CWTMOcugraE07Xte5OKcdL7XrNwgm9vtbqna3c//oH1FaGmTGqhHGVYSoiASojAYwx3PzYSrY2deC4htZYep9V4TqJ0LU8aUNbktZ4imTapSOZprE9yYjiALd84qhej1VKKTW8Bpx8xhjzBPCEiEwBaoAGY4ymju1Hkd/GyqRknVpTzPbmGHvaE10tYFvAti2CPhvHNRgMXzxjKq9vauTBN7ZmUrp68d9nCVctqOvK/V6dlcQG4OGlW8F4i5b0FAn6aIwmefX9BlzX4BiDv0cXvqHzh4NLMu2N0A/YNlbaJep4a7nPHlfOJ44bQ1UkuM9rKKWUGn7SWxdrPpk/f75ZunTpcBejTz/4y3s8u3o3VZnpZC2xFJvqO+hcXLS8yM+I4iDxtMNFc2q54dTJiAg7W+IsXrObPW3ej4CV21rY0tiBz7ZwHMNxtWXccNqUrult597zIkGfha+PKWbtiTSTq4upigR44I0PurrawQvoiZTbtVqc37aoCPsZURxgQ723olxNSRDbEnyZbbecc7TOUVdKqWEgIm8aY+b3tq3PlrqIXHMgL2KM+Z8DLdiR4JqTJrBkYyON0STlYT9lRX6mjYywpTFGLOkQ8FmMrSjiihPqOGVadde19lFlIa44oY63tjRx0x9XYgld195dY3h7W3PXgjCTqotxzb4D6LIJ3iC3qxdO4Ol3dno9BghpFxzHxTGd19TBEigt8rOxoQOMwTXetf9RZd4AvmgizVceXsGPLp/N1JE6YE4ppXJFny11Eek5ja1zR+nlOYwxw5IvNNdb6gBbmzr4yd/Xs2xLEyJCR9JhSnUxN5w2ibl1lX1e33Zdw5X/dwntiRSR4L6/v5o7khw1uoy7L5vN1x9ZwbIPmikP955ZrjGa5MoTx3PtSRN4a3MjV/7fJcRS+85UFKAyEiDoExo7UgRsC2PAMYZjxpR2lbW5I8mxteXccclxB//GKKWUOmD9tdT7Gyg3Met2MrAV+C/gVOCozN9fAB/gJadRfaitCPP9i2ZxzcIJCBCwhR0tMW5+dBU3P7qSPW2JXo9btb2Fpo5krwEdoKzIz7vbW9neHOPS48fhGrM3L3uWeMrBZwlnzfKSxWxq6GB0WYgRxQECme56wWuh+20hmvDWGfdnAnhnB0AyvfdHQGmRn7c/aGZ3W/wg3xWllFJDrc+gbozZ3HkDvgw8YIz5vDHmBWPMmszfG4A/AF85XAXOVw+/uZVfv7yRUMBiREmQsrCf8rCfZVu8bvSWWGqfY/a0JehvxEPnSmn17Qnm1lVw1YLxtMZSNHUkuwa9NUaTxFMuN519FDUlIdKOy++WbKGsyM+UmmKOG1dGyG8R9ltEAjYhvw0IKcf0251viWBbVp8/SJRSSh1+A52nfjrwTB/bnslsV31oT6T59csbKQv7u6VytUSoiHij2Z9YsX2f44qDPvoOq941csc1XfPWr1k4gf+49DhOnFiF43rnP2vmaH521Tw+PLUagNU724gm0gT9XjlsSygr8uOy95q8bYk3Gj9zaaZzmdaQ3+722q4xhAO6eq9SSuWKgX4jJ4D5wLO9bDue7gu8qB7e2NRI2jV9Ln4SCdr874odfOrE7uuKz64rJ+CzSKbdXqeqdSQdRpUFuy3wcmxtOcfWlvdZlnjKoecl/JqSIK2xFMZ4rXPL8tLXOsabdue4MKos2G3xmHjKpTISYEJVeADvgFJKqcNhoC31B4HbROTLIjJBRIoyf78C3IrXBa+yJNMu25tjNLQnaIun6W/moN+2eu1+D/psPvvhibTG092uZ4MXnBNplxtOnXJAOdhrSkKks1rh4M1jH13uPZ9yXBzXJeSzSDkusWQay/Ja5p2Z7hzXEE2mvTECmv9dKaVyxkBb6jcCJcD38TLJdTLA/ZntCkikHe5fsoVHl20jlXZxjKEqEtwnKGeLpRzGlhf1uu2848bgGvjVSxuIJhwMXms67Le55ZyjWDCp6oDKV1cVZnJ1MZsbopQW7R0pX1MSIhzwsactQWN7Ap9tYQEOQirtsqMlzo6WOEGfRU1JkMtPqOPMY0Ye0GsrpZQ6tAYU1I0xMeBqEfk2cCIwGtgBLDHGrD2E5csrKcfllkdXsWxLM6VFPsJhP8YYWmIJdrXFsSwYWdp9sRavBexy8bzabs+3xFKs2dmGawwfnjKCjx8ziqWbG2mNpakqDjBvfMVBr2X+T6dN4csPvU00ke42sj4SsEmGfBhjKAl5yWcSaZf6rN4GnyVUFge54oQ6baUrpVSOOaBRTpkArkG8Dy+tr2f5B81UFfu7Ap6IUFoUoLbCsLUpRsC2KAt766XHUw5tiTQnTKjk9Bk1AMSSDj97bj3PvLur67yuMSyYXMW/nj6NikxmusGYObaM7198LLf/5T2aO1LeEqziTWkbURIk7cKI4gCSGRxXW9H9unl9e4KnVu3g4nnjBl0WpZRSQ2dAQV1E6va3jzFmy+CLk98eXbaNgE96bcGOKA7iOIbxVRE2NUQBb5759Ysmc8Gcsfhsb0Dc1/64gne3t1Ie9nclenGN4dX3G9i4Zxn3fGouZUW9J5g5ELPHlfO76xaw/IMmtjR2YFsWs2vL+e4T79IaTPfbCo8EfTy4dCsXza3V1rpSSuWQgbbUN0G/U6YBhiWjXC7Z3RrvNmWtJ7/P5qK5Yzl1eg0px/WmrGUFxRfW7ubd7a1URvzdnrdEqIwE2N4S57Fl27j2pAlDUl7bEuaNr2Te+ErAuxSwoT5KZaT/Hw1FfpvGaJJo0tlnGVillFLDZ6DfyJ9h36BeBZwDTMJbb/2IN6o0xLrdbb1OPwOve7syEiTkt7vN+e70yFvbCPqsPlu/JSEfjy7bxjULxx+yFrKI90Hvb368Mf3vo5RS6vAb6EC5/+5j0w9F5D68wH7Eu2DOWL77xHtd872zxZIO4YDNnLq+55Bvb44R8vc9+C3os2hoTxJLOV1JX4wxRJMOAoQD9qCCvYhwzJgy1uxs7TYyvqeOpENtRRHhwBHfOaOUUjllKPpOfwv8GrhlCM6V1z48ZQRz68p5c3MTpUV+Aj4LYwxt8TSOC7edd3S/I9YjQR8dyTR99eA7rsGyIGBbxFMOf1m5g4fe3NqVqnVcZRGXHV/H6TNq+lyCdX8unV/LrY+/0+sPE9g7Wv+T88fp9XSllMoxB/fN310NENrvXkcAn23x7xfM5JqTJuAaaO7wFkaZOrKEOy89loWTR/R7/FkzR9GRdPrc3hJLccq0apKOy5ceept7n3ufaMKb4laZSTd759Nr+Naf3yHt9D0vvjcN7Qn++s5OdrXEqasMs7stuc85HNfQGE1xbG05px+lc9SVUirXDHT0+6Jeng4AM4GvAy8OZaHyWdBnc83CCVxxQh1N0SQBn0V5eGDT0M6eNZo/LttGWzxFSah793cs6WBbwuXH13HP39ezdlcbVZHuU+ciQR/hgOHVDY3c//oWrlk4Yb+v2dKR4p6/r+PF9fVd+dwtEdoTadriKSrCAQxgi5c69qyZo/j8aVP6HDeglFJq+Ay0+/059h0o19n3+jxww1AVqFD4bYua0gPrwKgqDnLnJcdx86MraYqmAG80mjEQ8tt854JZVIQD/H31bsqK/L12f4sIpSEfj7y5lcuOH9fvaPyWjhT//Pu32NEap7zI321d99IiP03RJBVhP5fMG0dFJMAJEyop62O99p62N8dYsbWZeMolHLCZN76CquLgAb0fSimlDsxAg/pH2Deox4HNxpidQ1ukI9uUmmJ+e92JvLahgdc3NuK4huPGlbNoajVFAZvFa3YDdAvAPQV8Fs0dKdbtamfm2LI+9/vJ4nXsaIlTVbxvT4LPEkYUB2iIpmhLpPjk8QNLNLN+dzu/eP59lm9tBsB1wbK8HxsfmlzF/1k0idFlvafEVUopNTgDHf3+3CEuh8rity1OnlrNyZnlUrMl0y79rg6TISIk0n1fn2+KJnlhXT3l/bS8O1v9jy/fzlULxvfb6gd4+4Nmvv7HlbjGpTyTNa+T4xpeWudl3PvPy+ZQp6u7KaXUkBvQhVERcUTkhD62zRORvqOHGrRY0uGv7+zkp4vX89r7DcRSbr9x3RiD6xpqSvru/n9rSxMY02+LH7xWfyrt8u721n73q29P8I3HV+GzoTwc6BbQwetZqCwOEE+5fPWRFf3+4FBKKXVwBtr93t83v83+s82pg/SXlTu4d/F6kpmR6I7rsqctQUN7gsk1xb3OFW+Lp5k6sphxlX23hmMpB3egn5oIsVT/QfipVTuJJx0qe+nKz1Za5KMxmuTV9xs4dXrNAAuglFJqIPptqYuIJSKdUcPKPM6+RYCzgPpDXtIj0FOrdvDDZ9YS8FlURgJURgJUl4QYX1VEyjWs29VGPNV92lks6QXr60+ZvM/5nKwoXhry77eV3skYQ2mo72561zU8umwbkeDAktH4bHj4za0D2lcppdTA9dlSF5FbgW9mHhrg5X7O89PBFkRELgVuA44CTjDGLB3sOfNZPOXw08XvUxyy95k+Vh4OMKHKsLkhxsb6KKPLgl5XiYGQ38e3L5jZNUBu/e52Hl++jb+9t5tE2iHktzl9Rg0fO2YUtiWkHbffRDXxlENJyMdRo0v73KctM/2tcoAryIUDPjbWRwe0r1JKqYHrr/v9ucxfwQvuvwJ6Nq8SwLvA/w5BWVYBFwH/NQTnynuvbWggkXapCPbeQq6MBCkJ+dneFOfESVWUBP3MHV/OSZNHEPLbGGN44I0P+PXLGwEoDfkoCdk4ruHpd3bx1Du7mFQd5v3d0X0WkOlkjKE94XD9KeP7b9UbONBM8AMY66eUUuoA9RnUjTHP481BR0QM8EtjzPZDVRBjzHuZ1zpUL5FXtjR24Lj9Z4Xz2xYVkQAXzqll9rjuOeWfWrWTX720kfIiX7eWuM8WKiIWacdl3a52RhQHaYgmKQn5CGb1CMRSDtG4w6JpI7hwTm2/5SgO+Qj5vKVjB5KUJp5yGFOuSQiVUmqoDXRK27eyH4tIGTAV2GmMOewXR0Xkc8DnAOrq9rvUe14K+qwBt2Z9PVrRacflVy9tpDhodwX0aCJNUzRF0nExxuAYSKQcdrXGmVwdoS2WImZb3iptxlvr/dOnTeC82WP3e+3dtoTzZo/hD0s/oMq3/y74ZNpw6bz+fygopZQ6cP1dUz8TOM0Y87Uez9+M1x3vyzz+A3CNMSa9vxcTkWeBUb1sutkY8/hAC22M+QXwC4D58+cXZEfusbXl2Lb0ubAKQMpxsS1hSk1xt+ff3NxEWyJNRdhPPOWyqT5KIu0ChpRjcIzxktWJ94OgJZYiYNv4fRb/58MTmTqyhGkjSwY8kA7gnGNH88e3tpFIOQR7WVa2UzSRJhK0WTRNR74rpdRQ66+v9HpgWvYTIvJRvLXTVwP/inf9+zLgCwN5MWPMGcaYmb3cBhzQjxQzRpUwoSpCS6z330rGGFpiac49bvQ+a7Nvaewg7bjEUy7rdreRdFx8tpByMrndAcsSBEg5hkTaEAn6aIuluOfv60mm3QMK6ACjy4r42lnTiSYd2hNpTI9uBq+8KVwD375gJkW6bKtSSg25/rrf5+AF8Gz/gJce9szO9LCZVuSngLsORQGPVCLCNz5xNF94YBkN0WS33OzJtEtrLM2M0SVcvWBCn+fY0tiBMV5rPOW4uMZ4w9k6W/6ZvvadrXGaO1KIQNo1XPv/XuejR4/kUyfWMaeuYsBlXjSthu8Hffz4b1762c4Usa4BS7wUuP/20WlMqSk5+DdGKaVUn/oL6jXA+z2e+yjwUo98708AVw+2ICJyIXAPUA08ISLLjTFnDva8+WxcZZifXjmP/35lI8+v2YOIYDAEbIurFtRx+Ql1+7TSAcZXRXCNN2fdZwsGSDqZlnNWV75rTNdUODD4LAtbIJF2WP5BE29vbeazH57IZccPfNzCvPGV/Pc/nMA721t5c3Mj7QmH8iI/CyZXMbm6eP8nUEopddD6C+ptQKTzgYhMBaqA13rs14qXVW5QjDGPAo8O9jyFZlRZiK+ddRSfWzSJ9bvb2d2aYP2edt7Y1MTSTU0cPaaUTxw7plsu9bl15biuybTMBdd43d/ZHerGmK6BeJ3d8H577+wDS4SSkI9fvriRkSUhTp0x8GvgIsLMsWX9LiajlFJq6PUX1FcD5+O1xMncN8Bfe+w3Edg19EVT4C2P+ucV23j4za1sbuwgGk9jWUJVJEh52Mfa3W08tnwbZxw1kn89YxoBn4XPtpgzrpwnV+3Y2xqHHq30zFN4XeM9roDjGoPPtggHLH754gZOmV6t0w2VUirH9RfU7wb+KCKVeEH708BK9s0sdyHw9iEp3RFue3OMf3twOfVtCVriKWJJx5vqBjRGk7QnUkypLsa2hb++u4uU43LT2UchIsydUMErG+ppi6cxZJK9mL3rs0MmoFveCPvuIyYFK3P9vshvU9+e5O2tLfvMhVdKKZVb+hz9box5DG+E+/HANXjd7pearGHNIlILnAY8eYjLecRJOy5fe2QFLR0pigI27fE0fksQESwR/LaQTBvW7m5ne1Oclo4kD7+5lfte3Uwi7bBwUhXl4QDTRhZTFQl0a42L7A3onfy2d7+zm74k6MvsK6Rdl9U7+l+lTSml1PDrN/mMMebHwI/72b4V0ObbIfD6xkZ2tcapiATYlMmTLj0GuaUcl3jKeGusA2nX5ft/eY9fvbSBr3x8OpOqi9lcH2VcZZjikI/N9VH8tkUibUh3ZqvL/EbrTFKTdg0V4UC3LHQi9LlKm+Ma1uxsoyWWwraE6pIgE6rC2lWvlFLDYKBLr6rD7PG3t3e1pNsT6W7zxl1jiCWdrpZ3Mu12ZYJLGJedrQm++IcVnDx1BLYttMZSlBf5aQ4HaI2l6GqzZ663B302GEPaGPy2xegeKVwFoao42O25lliKp9/ZycNvbqU1lspMlfOC/PiqMJfNH8fJ06q9cyullDosNKjnqF2t8W652LMl0q53nZy9XeqWSNejoM/CcQ0vrq/nQ5NHkEw71Ld7+d0dd28SGIFMrnZD2oWigI8JVWH8Wa101zVYIpw0uarruc0NUb788Aqao0nCQZvy8N5FZ4wx7GiJ84On1vD429v5zgWzKCvqe9lWpZRSQ0eDeo4K+e2u9c+DfptY0sESr5Xe+Xz2gLdOVqbb27YExzW8s72FG06ZzOy6cp55dxd72hIYY3htYyOtHUn8Ppug36IqEiAcsLu6zdOuS0fCoTmWYubY0q7X3NES44t/WE485VJZvG+edxGhOOgjEjCs2dHG1x9ZwQ8vm93rfHqllFJDS4N6jjptejW/emkjRQFD2G/R0pEiLd5I9b0JYzwiXosaQCyvC9y2BNsSkmmXx5Zv41MLumeH21gf5QsPLMNxXUpCe1vS8ZTD7rYEzR0pHNdgCWzYE+WaXy1hTl0F9e0Josk0FeH+F24RESoiftbubuOPb23lUyeOH8q3RymlVC/2v06mGhYfO3oUsWSaVdta2dOW6BoYl3a9pDHZ88pds7crPu0YYimHjqSTed6QSLss39Lc7fwTR0T44SdnUxz009SRpDWWor4twZqdbdS3JXBdQ5Hf5qjRpYwoDlIW9vPGpkZeWLuHeLL3QXM9iQglQR+PvLWNtNP/MrJKKaUGT4N6jnprSxOOm2l12xbhgN1tClpvLMks1CKCawzxtIPjel32TR3JffafUlPMb687kW9+4hhGlobY1hzDFqEiHGByTTEzRpV0rY9uiZB2DJYl7G5LsrstMaB6BP027Yk0Szc3HfiboJRS6oBoUM9BrfEUd/11LSPLQkyqjmCL4BjwW2D38ol1ZoXLnkYm4q3Clkw7pB3TbfBbNr9tcdLkKpKOy5SaYmbWljGxOkJJyNf9Yj3QkXKwRPBZwo6WOGnH9HrOntKOy9bGjgHWXiml1MHSa+o56O/v7SbtupT6fAR9FmUhP+2JNPHMfPSdzTHas7rALaFbCligaxSdiPcjYcbo0j5f7+2tLdS3JSkP9//PwXW9xDQigOtltaspDfZ7DHi/Dfqa566UUmroaEs9By1es7ur2xsAgeKQjxHFAUYUBwgHuwfffdrLWfPPRYS041Jd3HfwfXLFdsDsN2GMz5auddJtC/a0D6wLHoRSndamlFKHnAb1HBRNONj9BNiU41Lkt7p6x43pXHXNdAXdkN/2rrFnrpG3xlN9nm9rc4ygf///FMrD/qxUszKg7ndjDJYFcw9gXXallFIHR4N6DqoqDpDaz2hxyxKKAhYimQFyArYIQZ9FKGB3BfeJIyIEfHbX/PXBKCvyY1neILyBaounOWZMGeMqw/vfWSml1KBoUM9B58wa3ZXspTfhgA/X9dK3lgRtJlVHKA75sW3B4H2oo8pCzBhdQsAnhAM2paG+r5ePLguRSO9/ypklQnVxEMc1uK6Lz+7/h0LacUk7hqsW6Bx1pYbCCy+8wPnnn8/48eMREb7zne90255Op7njjjuYPn06oVCIqVOncu+99+5znoceeoh58+ZRXFxMTU0NF110EevXrz9c1VCHkAb1HLRgUhWlRX7a4+let48oDmCMt+b5yNIQVcVBZowq4bjaMo6tLeOYsWWMLA3hty2iCYeL5o7ttkBLT2fPGgNmYC35kaVByor8pBxDZaTvBDTJtEtzLM1nT57IvPHa9a7UUGhvb+foo4/mjjvuYNSoUftsv/XWW7nzzju5/fbbeffdd7ntttv4yle+wi9/+cuufZYsWcLll1/OxRdfzIoVK3jyySdpaGjgnHPOOZxVUYeIBvUcFPBZfOeCWSDQ1JHE9OjutizB77MI+W0qsvKudy7L2imaSFPktzlr1uh+X2/OuHIqIwGiid5/RGQTEcZWhCgt8uO3LRqjSWJJJ9Mqd2lPpGmKJkk5hhs/Oo3Ljq87wNorpfpy9tln8/3vf5/LLruMYHDfwa+/+c1vuPHGG7nwwguZNGkSV155Jddddx3f/e53u/Z59dVXKS8v56abbmLSpEnMnz+fL33pS6xdu5aWlpbDWR11CGhQz1HTR5VwzxVzmTW2nKaOFE3RJI3RJM0dKTBw40enMbeugsaOVNfSq51c19AU9RZt+c4FsxjRz8h38H4k3PixaSTS7n674R3X0Bpz+MLpU3noHxdy3cmTKA8HSKa9RWHGVYT50pnTeej6hfv9MaGUGlrxeJxQqPsqi0VFRWzevJnNmzcDcNJJJ9Hc3MyDDz6I67o0Nzdz33338aEPfYiysrLhKLYaQtKzFZhv5s+fb5YuXTrcxTiktjXHeG97KynHpao4yJy68kzXeprfv76FPy3fTjJrYJ0BFk6q5NqTJjJxRGTAr7N49W5+8NRqjIHSIl+35V6NMbTF06Qcw8XzavnHRZN0zXSlhtGECRO47rrruOWWW7qeu/rqq3n55Zd5/PHHmTlzJq+//jrnnnsue/bs4ZVXXmHhwoUA/PnPf+baa6+lra2NdDrNiSeeyBNPPEFVVVVfL6dyiIi8aYyZ39s2TT6TB8aWFzG2vGif5yNBH9edPImrFoxnxdYW2uIpgj6bGaNL9ts6781pM2oYV1nEH974gBfX1QNeilkrk3b2mDFlXH78OE6YWKkBXakc9KMf/Yjrr7+e2bNnIyKMGTOGz372s9x+++3YtrdS4urVq7nhhhv44he/yLnnnktTUxPf/OY3ufDCC1m8eHHXfio/aVAvACG/zQkTK4fkXFNqSrj5nKNpiiZZtb2FaMIh6LeYUl2s09KUynGVlZU8+OCDJJNJdu/ezZgxY/j5z38OwMSJEwH43ve+x6xZs/jGN77Rddz9999PXV0dixcv5owzzhiWsquhoUFd9aoiEuDkqdXDXQyl1EEIBALU1tYC8Pvf/55FixZRXe39f45Go1hW9+FUna3zfL8cqzSoK6VU3mhvb++aT55MJtm5cyfLly+nuLiYKVOm8MYbb7Bp0ybmzp3L7t27ueuuu1i+fDkvvfRS1zkuuOACPv3pT3P33Xdz3nnn0dTUxE033cSYMWM48cQTh6tqaohoUFdKqTyxdOlSTjvttK7H9957L/feey+nnHIKzz33HIlEgm9961u8//77BAIBFi1axCuvvMKsWbO6jrn66qvp6Ojg3nvv5ZZbbiESibBgwQKefvppSkv7XvhJ5Qcd/a6UUkrlER39fgT4oLGDJRsbaIwmCflsxlWFWTipipBfR7IqpdSRQoN6nlu1rYVfv7yRldtacI23drnBYIsQ8NmcP3sMV5xQRySoH7VSShU6/abPY397bxd3PLUayxIqwv595o4n0y4PvLGF1zY0cuclx1LRT652pZRS+U/TxOapZVua+MFTqwkHfZQV7RvQwcshXxUJsKWxg5sfW7lPOlmllFKFRYN6HjLGcO/i9fhti6Cv/49QRKgI+1i/u53XNjQcphIqpZQaDhrU89DaXe180BijODiwQXAigt8WHlz6wSEumVJKqeGkQT0P/X31LlxjDij/enHQx7pdbexujR/CkimllBpOOlAuD+1sieO3D2xBFRHBtiyaYylqSkP7P0ApdUSLpxw2N3SwuSFKR9IhmXYACPhswgGbCSMijK8KE/TptNlcokE9D9mWcLApgyxdXU0p1YuU4/L6xkZeeb+ed7a1sr0lhm0JrguOMbiZRGWWCLYIlgWOaxhTXsQxY0r50OQRnDCxEp+tHcDDSYN6HhpfFelaGnWgXNfgGMOIYp3WppTaa09bgqff2cEjb24jlnIwxhAK2L1Ok+3JGENTR5Jn393Fs+/tIhLwcdHcWj4+c9RBLf+sBk+Deh762DEj+d2SzV1rnQ9EazzNgkmVlIc1qCuloDGa5KeLX8RcGAAAD1FJREFU1/PCuj0ARII25WH/AZ1DRCjy2xRlMlcm0g7/88om7nt1M4umjeDzp07R/BiHmQb1PDS6rIi5dRUs29JMRWT//wndTNfZhXNqD0PplFK5zBjDc2t285/PriOWcikv8mNZQ3NZLuizCRbbuK7h+bX1vL6pkS+eMY1TplUf0MBedfD04kee+qfTphDyW7TF0/3u5xpDYzTFR2bUcFxt2WEqnVIqFzVGk3zz8VV878nViEBlZOgCejbLEiozDY7vPvEet/7pHZqiySF/HbUvDep5alxlmDsvPY6gz6KhPUmiR7Y4YwytsRRN0RSnTa/m3z46XX8pK3UE21Qf5R/vW8qSjU1URvyHZbGnIr9NZcTPaxsa+dx9S9nS0HHIX/NIp0uv5rn69gRPrNjBY8u8QS4CIN6o1GPGlHLJvHGcNLlKA7pSR7C1u9r48kNvk3IMpUXDc9W1NZbG77O469JjmVJTMixlKBT9Lb2qQb1AJNMuq3e20hZP47ctxpSHqK0ID3exlFLDbFN9lC88sIy0aygJDe8wqrZ4Cp9tc8/lc6ir0u+ng6XrqR8BAj6LY2vLh7sYSqkc0hhN8uWHh7eFnq0k5Kc1lubGh5bzi6vn68j4Q0CvqSulVAEyxnD3M2tpiaVzIqB3Ki3y0RJL8aO/rSPfe4pzkQZ1pZQqQM+v2cNrGxqoCOdOQO9UEfbz8vp6XszMkVdDJ2eCuojcKSKrRWSFiDwqItqXrJRSB6ExmuTuZ9cSCdo5OUhWRAgHbO56Zp1OdRtiORPUgWeAmcaYY4G1wNeHuTxKKZWXfvbcemIp97BMWztYRQGbWDLNf73w/nAXpaDkTFA3xvzVGNOZSeU1QNOfKaXUAapvT/DCunrKc+g6el/Kivw8t2YPjdpaHzI5E9R7+Azwl742isjnRGSpiCzds0evySilVKenVu3EuOaQZIobarYluMbw9Kqdw12UgnFYg7qIPCsiq3q5nZ+1z81AGvhdX+cxxvzCGDPfGDO/urr6cBRdKaVyXtpx+eNbW4mEcrfbvadwwOaRZVtJO+7+d1b7dVj7Z4wxZ/S3XUSuBT4BnG50roNSSh2Q1zc1Ek2k82r+d8hv0xRN8samJhZOrhru4uS9nOl+F5GPA18FzjPGaIJgpZQ6QK+930A+toYM8MbGxuEuRkHImaAO/AQoAZ4RkeUi8vPhLpBSSuWTVdtbutY2zychv83K7S3DXYyCkDPDI40xU4a7DEopla8SaYetTTHKw/7hLsoBC/kttjR0kEy7BHy51NbMP/ruKaVUAdjc0IFtCVYOJpvZH0sEy4ItjXrldbA0qCulVAHY0tCBm8fji10DH2hQHzQN6kopVQA6Ug75PCvMdQ0dSWe4i5H3NKgrpVQBSKVdjJu/LXVjIOloUB8sDepKKVUo8u9yejeS7xXIARrUlVKqAPh9Vk6uyDZQIuC3NSQNlr6DSilVACIBG18e5Hvvi20J4WD+zbHPNRrUlVKqAIyvCpPHDXVEYHxleLiLkfc0qCulVAEYVxnGcU1eTmtzjcE1Xh3U4GhQV0qpAhD02YyrCJNI5d+8tnjKYXxlWK+pDwF9B5VSqkDMHFtGLJV/08LiKZeZY8uGuxgFQYO6UkoViIWTq/JyUpggLJiky64OBQ3qSilVIOaPr6CkyE88j1rr8ZRDWZGfeeMrhrsoBUGDulJKFQifbXHJ3Nq8SrfakXS4dH4tdh5Px8slGtSVUqqAfOyYUVgiOHmQMtZxDZYIZxw1criLUjA0qCulVAGpjAQ4dXo1LbHUcBdlv1piKU4/aiQVkcBwF6VgaFBXSqkCc/0pkwkHfMRyuBu+I+lQHPTxuUWThrsoBUWDulJKFZjycIAvfWwaHUknJ5PRuMYQSzp8+cwZlBX5h7s4BUWDulJKFaAPTRnByVNH0NyRe93wzR0pTp1ezcLJOo1tqGlQV0qpAiQi/MvpU6kIB2jJocDe0pGiKhLg//vI1OEuSkHSoK6UUgWqPBzgrk8eRyhg05oDA+daYynCQZv/+ORs7XY/RDSoK6VUAautCPPDT84m6LeHtcXe0pGiKODjPy6dzdjyomErR6HToK6UUgVu4ogI91wxh9IiP03R5GEdPOcaQ2M0SXnYz4+vmMPEEZHD9tpHIjE5ODLyQIjIHmDzML38CKB+mF57OGm9jyxHYr2PxDqD1jtfjDfGVPe2Ie+D+nASkaXGmPnDXY7DTet9ZDkS630k1hm03sNdjqGg3e9KKaVUgdCgrpRSShUIDeqD84vhLsAw0XofWY7Eeh+JdQatd97Ta+pKKaVUgdCWulJKKVUgNKj3QUQ+LiJrRGS9iHytl+1BEflDZvsSEZmQte3rmefXiMiZh7Pcg3Ww9RaRCSISE5HlmdvPD3fZD9YA6rxIRN4SkbSIXNJj27Uisi5zu/bwlXrwBllvJ+uz/tPhK/XgDaDe/yYi74rIChH5m4iMz9pWyJ93f/Uu5M/7ehFZmanbSyJydNa2/PsuN8borccNsIH3gUlAAHgbOLrHPp8Hfp65fznwh8z9ozP7B4GJmfPYw12nw1DvCcCq4a7DIarzBOBY4H+AS7KerwQ2ZP5WZO5XDHedDnW9M9vah7sOh7DepwHhzP0bsv6NF/rn3Wu9j4DPuzTr/nnAU5n7efldri313p0ArDfGbDDGJIEHgPN77HM+8JvM/YeB00VEMs8/YIxJGGM2Ausz58sHg6l3vtpvnY0xm4wxKwC3x7FnAs8YYxqNMU3AM8DHD0ehh8Bg6p3PBlLvxcaYjszD14DazP1C/7z7qnc+G0i9W7MeRoDOgWZ5+V2uQb13Y4EPsh5vzTzX6z7GmDTQAlQN8NhcNZh6A0wUkWUi8ryInHyoCztEBvN5Ffpn3Z+QiCwVkddE5IKhLdohdaD1/izwl4M8NpcMpt5Q4J+3iPyTiLwP3AH8y4Ecm2t8w12AHNVby7PnNIG+9hnIsblqMPXeAdQZYxpEZB7wmIgc0+NXcC4azOdV6J91f+qMMdtFZBLwdxFZaYx5f4jKdigNuN4ichUwHzjlQI/NQYOpNxT4522MuRe4V0Q+BdwCXDvQY3ONttR7txUYl/W4Ftje1z4i4gPKgMYBHpurDrremS6qBgBjzJt415+mHfISD95gPq9C/6z7ZIzZnvm7AXgOmDOUhTuEBlRvETkDuBk4zxiTOJBjc9Rg6l3wn3eWB4DOnoj8/LyH+6J+Lt7wejA24A2O6BxccUyPff6J7gPGHszcP4bugys2kAeDK4ag3tWd9cQblLINqBzuOg1FnbP2/W/2HSi3EW/QVEXmfs7XeQjqXQEEM/dHAOvoMfgoV28D/Dc+B+9H6dQezxf0591PvQv9856adf9cYGnmfl5+lw97AXL1BpwNrM38I78589y/4/2CBQgBD+ENnngdmJR17M2Z49YAZw13XQ5HvYGLgXcy/wneAs4d7roMYZ2Px/vVHgUagHeyjv1M5r1YD/zDcNflcNQbOAlYmfmsVwKfHe66DHG9nwV2Acsztz8dIZ93r/U+Aj7vH2W+u5YDi8kK+vn4Xa4Z5ZRSSqkCodfUlVJKqQKhQV0ppZQqEBrUlVJKqQKhQV0ppZQqEBrUlVJKqQKhQV2pHCAinxYRIyJTetnmy2y7bT/nmJDZ77pDVlClVE7ToK6UUkoVCA3qSqnDTkT8eb66n1I5SYO6UkcYEZkoIr8TkT0ikhCR5SJyYdb2T2a68Y/t5di/iMjyrMc+Efm6iKzOnGu7iNwlIqGsfTovC3xeRO4Qke1AAigXkWoR+S8RWSsiHSLygYjcLyK9raR1ReZ14iKyUkTOE5HnROS5HvuNEJGfici2TJlWi8jnhujtUyqn6SptSuUWO7NQTrfnhurkIjIOWALsBr4I7AEuAx4RkQuMMX8C/oS3pO5VwFeyjh0JnAF8LeuUv8XLl/0D4BXgKODbwAS81MHZbgbeAD6XqVMcqMv8/XqmLGOAG4GXRWSGMSaeee2PAr/LlO1GvBzk/4mXtnhtVhlLgZeBIuA2vPzsZwI/E5GgMeaeA37TlMojGtSVyi2rD/H5b8NbUvIUk1lVD3g6E+z/HS/fd1xEHgI+JSJfM8a4mf2uyBx7P4CInIz3g+BaY8z/ZPZ5VkQagd+KyGxjTFerHi+v+IWme27qNcAXOh+IiI0XlLcAZwGPZjZ9C3g3+3gRWQm8SVZQz5xrPDDLGLMuq0zlwK0i8jNjTPpA3jCl8ol2vyuVWy7EW0gl+7ZgCM//ceBJoCXTde7L9Aw8DRyXaekC3AeMBT6SdezVwLPGmB1Z50ritfKzz/XXzPZFPV77MdPLYhMicoOIvC0i7UAaL6ADTM9st/HW934k+3hjzFt4LfGe9VsCbOylflXA0ft9h5TKY9pSVyq3rDLGrM9+opfu+MGoAa7J3HpTBbQCLwKbyARyETkKmIvXJZ99rgDQ3s+5su3ouYOI/DPwY+CHwJeBJrzGxmt4XevgdbX78S4Z9LSrx+MaYAqQGmCZlCooGtSVOrI04AXsH/SxfTuAMcaIyG+BfxWRG/CCezt7u8M7zxUHTu7vXFl6WxLycuBvxpgbO58QkYk99qnHC9I1vRw/kr0t+84y7SarS7+HNX08r1RB0KCu1JHlKWAh3trosf3sex9wC3ARcCVe93dHj3N9FSgzxvztIMsTxusZyPYP2Q+MMY6ILAUuFpHbsq6pzwMm0j2oPwX8M7DFGNNby16pgqZBXanCM09Emnt5/k/AN4HXgRdE5Cd4XewVwExgkjHmM507G2PWisgS4Ha86+v3ZZ/MGPOciPweeFhEfpg5r4s38v1s4KvGmOxBbL15CviqiNyUOf4jwCW97Hcr3rX6R0XkF3hd8rcBOzOv2eluvMF7L4rI3Xgt8wgwAzjZGHP+fsqjVF7ToK5U4bk+c+up2hizRUTm4wXE7wHVeF3Wq4Df9HLMfcBPgG3A4l62X4XXMv4M3pS1BN4PhafZ93p3b/4dKMebXhcCnsebgrYheydjzDMiciVecH8UWI83te2beNPvOvdrEZGTMs9/Fe/HSDNecH9kAOVRKq9JL4NRlVIq54lILV5w/64x5tvDXR6lcoEGdaVUzhORIrwR8s/iDZybhJcYZyRwTNY0O6WOaNr9rpTKBw4wCu9SQBUQxRvFf6kGdKX20pa6UkopVSA0o5xSSilVIDSoK6WUUgVCg7pSSilVIDSoK6WUUgVCg7pSSilVIDSoK6WUUgXi/weVgzbGQJvemAAAAABJRU5ErkJggg==\n",
      "text/plain": [
       "<Figure size 576x432 with 1 Axes>"
      ]
     },
     "metadata": {
      "needs_background": "light"
     },
     "output_type": "display_data"
    }
   ],
   "source": [
    "from statsmodels.graphics.regressionplots import influence_plot\n",
    "fig, ax = plt.subplots( figsize=(8,6) )\n",
    "influence_plot( adv_model_2, ax = ax )\n",
    "plt.title( \" Leverage Value Vs Residuals\")\n",
    "plt.show()"
   ]
  },
  {
   "cell_type": "code",
   "execution_count": 84,
   "metadata": {},
   "outputs": [
    {
     "data": {
      "text/html": [
       "<div>\n",
       "<style scoped>\n",
       "    .dataframe tbody tr th:only-of-type {\n",
       "        vertical-align: middle;\n",
       "    }\n",
       "\n",
       "    .dataframe tbody tr th {\n",
       "        vertical-align: top;\n",
       "    }\n",
       "\n",
       "    .dataframe thead th {\n",
       "        text-align: right;\n",
       "    }\n",
       "</style>\n",
       "<table border=\"1\" class=\"dataframe\">\n",
       "  <thead>\n",
       "    <tr style=\"text-align: right;\">\n",
       "      <th></th>\n",
       "      <th>Sno</th>\n",
       "      <th>TV</th>\n",
       "      <th>Radio</th>\n",
       "      <th>Newspaper</th>\n",
       "      <th>Day</th>\n",
       "      <th>Sales</th>\n",
       "    </tr>\n",
       "  </thead>\n",
       "  <tbody>\n",
       "    <tr>\n",
       "      <th>131</th>\n",
       "      <td>132</td>\n",
       "      <td>265.2</td>\n",
       "      <td>2.9</td>\n",
       "      <td>43.0</td>\n",
       "      <td>Holiday</td>\n",
       "      <td>24.4</td>\n",
       "    </tr>\n",
       "    <tr>\n",
       "      <th>165</th>\n",
       "      <td>166</td>\n",
       "      <td>234.5</td>\n",
       "      <td>3.4</td>\n",
       "      <td>84.8</td>\n",
       "      <td>Weekend</td>\n",
       "      <td>25.4</td>\n",
       "    </tr>\n",
       "    <tr>\n",
       "      <th>198</th>\n",
       "      <td>199</td>\n",
       "      <td>283.6</td>\n",
       "      <td>42.0</td>\n",
       "      <td>66.2</td>\n",
       "      <td>Holiday</td>\n",
       "      <td>4.8</td>\n",
       "    </tr>\n",
       "  </tbody>\n",
       "</table>\n",
       "</div>"
      ],
      "text/plain": [
       "     Sno     TV  Radio  Newspaper      Day  Sales\n",
       "131  132  265.2    2.9       43.0  Holiday   24.4\n",
       "165  166  234.5    3.4       84.8  Weekend   25.4\n",
       "198  199  283.6   42.0       66.2  Holiday    4.8"
      ]
     },
     "execution_count": 84,
     "metadata": {},
     "output_type": "execute_result"
    }
   ],
   "source": [
    "adv[adv.index.isin( [131, 165, 198] )]\n",
    "\n",
    "#Identifying row values with maximum influence on the model"
   ]
  },
  {
   "cell_type": "code",
   "execution_count": 85,
   "metadata": {},
   "outputs": [],
   "source": [
    "train_X_new = train_X.drop( [131, 165, 198], axis = 0)\n",
    "train_y_new = train_y.drop( [131, 165, 198], axis = 0)\n",
    "\n",
    "#Dropping them to test the influence of them on the model"
   ]
  },
  {
   "cell_type": "code",
   "execution_count": 86,
   "metadata": {},
   "outputs": [],
   "source": [
    "import numpy as np\n",
    "train_y = np.sqrt( train_y )"
   ]
  },
  {
   "cell_type": "code",
   "execution_count": 117,
   "metadata": {},
   "outputs": [
    {
     "data": {
      "text/html": [
       "<table class=\"simpletable\">\n",
       "<tr>\n",
       "          <td>Model:</td>                 <td>OLS</td>       <td>Adj. R-squared (uncentered):</td>   <td>0.749</td> \n",
       "</tr>\n",
       "<tr>\n",
       "    <td>Dependent Variable:</td>         <td>Sales</td>                  <td>AIC:</td>             <td>923.5554</td>\n",
       "</tr>\n",
       "<tr>\n",
       "           <td>Date:</td>          <td>2020-08-11 19:13</td>             <td>BIC:</td>             <td>938.0446</td>\n",
       "</tr>\n",
       "<tr>\n",
       "     <td>No. Observations:</td>           <td>134</td>              <td>Log-Likelihood:</td>        <td>-456.78</td>\n",
       "</tr>\n",
       "<tr>\n",
       "         <td>Df Model:</td>                <td>5</td>                <td>F-statistic:</td>           <td>80.87</td> \n",
       "</tr>\n",
       "<tr>\n",
       "       <td>Df Residuals:</td>             <td>129</td>            <td>Prob (F-statistic):</td>     <td>4.63e-38</td>\n",
       "</tr>\n",
       "<tr>\n",
       "  <td>R-squared (uncentered):</td>       <td>0.758</td>                 <td>Scale:</td>             <td>55.575</td> \n",
       "</tr>\n",
       "</table>\n",
       "<table class=\"simpletable\">\n",
       "<tr>\n",
       "       <td></td>        <th>Coef.</th>  <th>Std.Err.</th>    <th>t</th>     <th>P>|t|</th>  <th>[0.025</th>  <th>0.975]</th> \n",
       "</tr>\n",
       "<tr>\n",
       "  <th>Radio</th>       <td>0.1439</td>   <td>0.0470</td>  <td>3.0644</td>  <td>0.0027</td>  <td>0.0510</td>  <td>0.2369</td> \n",
       "</tr>\n",
       "<tr>\n",
       "  <th>Day_Weekend</th> <td>-6.5695</td>  <td>2.0956</td>  <td>-3.1349</td> <td>0.0021</td> <td>-10.7156</td> <td>-2.4233</td>\n",
       "</tr>\n",
       "<tr>\n",
       "  <th>Newspaper</th>   <td>0.0660</td>   <td>0.0333</td>  <td>1.9786</td>  <td>0.0500</td>  <td>0.0000</td>  <td>0.1319</td> \n",
       "</tr>\n",
       "<tr>\n",
       "  <th>Day_Holiday</th> <td>-7.3685</td>  <td>5.4376</td>  <td>-1.3551</td> <td>0.1778</td> <td>-18.1269</td> <td>3.3899</td> \n",
       "</tr>\n",
       "<tr>\n",
       "  <th>TV</th>          <td>0.0575</td>   <td>0.0082</td>  <td>7.0421</td>  <td>0.0000</td>  <td>0.0414</td>  <td>0.0737</td> \n",
       "</tr>\n",
       "</table>\n",
       "<table class=\"simpletable\">\n",
       "<tr>\n",
       "     <td>Omnibus:</td>    <td>6.372</td>  <td>Durbin-Watson:</td>   <td>1.838</td>\n",
       "</tr>\n",
       "<tr>\n",
       "  <td>Prob(Omnibus):</td> <td>0.041</td> <td>Jarque-Bera (JB):</td> <td>5.915</td>\n",
       "</tr>\n",
       "<tr>\n",
       "       <td>Skew:</td>     <td>0.484</td>     <td>Prob(JB):</td>     <td>0.052</td>\n",
       "</tr>\n",
       "<tr>\n",
       "     <td>Kurtosis:</td>   <td>3.351</td>  <td>Condition No.:</td>   <td>1446</td> \n",
       "</tr>\n",
       "</table>"
      ],
      "text/plain": [
       "<class 'statsmodels.iolib.summary2.Summary'>\n",
       "\"\"\"\n",
       "                       Results: Ordinary least squares\n",
       "==============================================================================\n",
       "Model:                  OLS              Adj. R-squared (uncentered): 0.749   \n",
       "Dependent Variable:     Sales            AIC:                         923.5554\n",
       "Date:                   2020-08-11 19:13 BIC:                         938.0446\n",
       "No. Observations:       134              Log-Likelihood:              -456.78 \n",
       "Df Model:               5                F-statistic:                 80.87   \n",
       "Df Residuals:           129              Prob (F-statistic):          4.63e-38\n",
       "R-squared (uncentered): 0.758            Scale:                       55.575  \n",
       "---------------------------------------------------------------------------------\n",
       "                   Coef.     Std.Err.       t       P>|t|      [0.025      0.975]\n",
       "---------------------------------------------------------------------------------\n",
       "Radio              0.1439      0.0470     3.0644    0.0027      0.0510     0.2369\n",
       "Day_Weekend       -6.5695      2.0956    -3.1349    0.0021    -10.7156    -2.4233\n",
       "Newspaper          0.0660      0.0333     1.9786    0.0500      0.0000     0.1319\n",
       "Day_Holiday       -7.3685      5.4376    -1.3551    0.1778    -18.1269     3.3899\n",
       "TV                 0.0575      0.0082     7.0421    0.0000      0.0414     0.0737\n",
       "------------------------------------------------------------------------------\n",
       "Omnibus:                   6.372            Durbin-Watson:               1.838\n",
       "Prob(Omnibus):             0.041            Jarque-Bera (JB):            5.915\n",
       "Skew:                      0.484            Prob(JB):                    0.052\n",
       "Kurtosis:                  3.351            Condition No.:               1446 \n",
       "==============================================================================\n",
       "* The condition number is large (1e+03). This might indicate\n",
       "strong multicollinearity or other numerical problems.\n",
       "\"\"\""
      ]
     },
     "execution_count": 117,
     "metadata": {},
     "output_type": "execute_result"
    }
   ],
   "source": [
    "adv_model_3 = sm.OLS(train_y_new, train_X_new).fit()\n",
    "adv_model_3.summary2()\n",
    "\n",
    "#Fitting the model for third time after removing the influencing rows"
   ]
  },
  {
   "cell_type": "code",
   "execution_count": 118,
   "metadata": {
    "scrolled": true
   },
   "outputs": [
    {
     "data": {
      "text/plain": [
       "<Figure size 576x432 with 0 Axes>"
      ]
     },
     "metadata": {},
     "output_type": "display_data"
    },
    {
     "data": {
      "image/png": "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\n",
      "text/plain": [
       "<Figure size 432x288 with 1 Axes>"
      ]
     },
     "metadata": {
      "needs_background": "light"
     },
     "output_type": "display_data"
    }
   ],
   "source": [
    "draw_pp_plot( adv_model_3,\"Normal P-P Plot of Regression Standardized Residuals\");\n",
    "\n",
    "#New PP Plot"
   ]
  },
  {
   "cell_type": "code",
   "execution_count": 130,
   "metadata": {},
   "outputs": [],
   "source": [
    "pred_y = np.power(adv_model_3.predict( test_X[train_X_new.columns] ), 2)"
   ]
  },
  {
   "cell_type": "code",
   "execution_count": 131,
   "metadata": {},
   "outputs": [
    {
     "data": {
      "text/plain": [
       "202.76831034407314"
      ]
     },
     "execution_count": 131,
     "metadata": {},
     "output_type": "execute_result"
    }
   ],
   "source": [
    "from sklearn import metrics\n",
    "np.sqrt(metrics.mean_squared_error(pred_y, test_y))\n",
    "\n",
    "#Calculating RMSE"
   ]
  }
 ],
 "metadata": {
  "kernelspec": {
   "display_name": "Python 3",
   "language": "python",
   "name": "python3"
  },
  "language_info": {
   "codemirror_mode": {
    "name": "ipython",
    "version": 3
   },
   "file_extension": ".py",
   "mimetype": "text/x-python",
   "name": "python",
   "nbconvert_exporter": "python",
   "pygments_lexer": "ipython3",
   "version": "3.7.3"
  }
 },
 "nbformat": 4,
 "nbformat_minor": 2
}


/*#Manual calculation for random input given externally
Radio budget = 37.8
Newspaper budget = 0.0660
TV bugget= 0.0575
Day_Weekend = 1
Day_Holiday = 0

Considering the coefficients from Model_2 and substituting the corresponding values in the equation:
Y = (Radio)X1 + (Newspaper)X2+ (TV)X3 + (Day_Weekend)X4 + (Day_Holiday)X5

Sales = 2.9025*/
